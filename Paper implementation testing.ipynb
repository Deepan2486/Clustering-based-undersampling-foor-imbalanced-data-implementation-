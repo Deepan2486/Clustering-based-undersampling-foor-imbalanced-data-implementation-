{
 "cells": [
  {
   "cell_type": "code",
   "execution_count": 2,
   "id": "e56d94fa",
   "metadata": {},
   "outputs": [],
   "source": [
    "import numpy as np"
   ]
  },
  {
   "cell_type": "code",
   "execution_count": 3,
   "id": "db403b21",
   "metadata": {},
   "outputs": [],
   "source": [
    "from sklearn.model_selection import KFold"
   ]
  },
  {
   "cell_type": "code",
   "execution_count": 4,
   "id": "36586b97",
   "metadata": {},
   "outputs": [
    {
     "data": {
      "text/plain": [
       "2"
      ]
     },
     "execution_count": 4,
     "metadata": {},
     "output_type": "execute_result"
    }
   ],
   "source": [
    "X = np.array([[1, 2], [3, 4], [5, 2], [9, 6]])\n",
    "y = np.array([1, 2, 3, 4])\n",
    "kf = KFold(n_splits=2)\n",
    "kf.get_n_splits(X)"
   ]
  },
  {
   "cell_type": "code",
   "execution_count": 5,
   "id": "12b6335e",
   "metadata": {},
   "outputs": [
    {
     "name": "stdout",
     "output_type": "stream",
     "text": [
      "KFold(n_splits=2, random_state=None, shuffle=False)\n"
     ]
    }
   ],
   "source": [
    "print(kf)"
   ]
  },
  {
   "cell_type": "code",
   "execution_count": 6,
   "id": "c6ca67ae",
   "metadata": {},
   "outputs": [
    {
     "name": "stdout",
     "output_type": "stream",
     "text": [
      "TRAIN: [2 3] TEST: [0 1]\n",
      "TRAIN: [0 1] TEST: [2 3]\n"
     ]
    }
   ],
   "source": [
    "for train_index, test_index in kf.split(X):\n",
    "    print(\"TRAIN:\", train_index, \"TEST:\", test_index)\n",
    "    X_train, X_test = X[train_index], X[test_index]\n",
    "    y_train, y_test = y[train_index], y[test_index]"
   ]
  },
  {
   "cell_type": "code",
   "execution_count": 7,
   "id": "3e6debd3",
   "metadata": {},
   "outputs": [
    {
     "data": {
      "text/plain": [
       "array([[1, 2],\n",
       "       [3, 4]])"
      ]
     },
     "execution_count": 7,
     "metadata": {},
     "output_type": "execute_result"
    }
   ],
   "source": [
    "X_train"
   ]
  },
  {
   "cell_type": "code",
   "execution_count": 8,
   "id": "6ad6de02",
   "metadata": {},
   "outputs": [
    {
     "data": {
      "text/plain": [
       "array([[5, 2],\n",
       "       [9, 6]])"
      ]
     },
     "execution_count": 8,
     "metadata": {},
     "output_type": "execute_result"
    }
   ],
   "source": [
    "X_test\n"
   ]
  },
  {
   "cell_type": "code",
   "execution_count": 9,
   "id": "84363513",
   "metadata": {},
   "outputs": [
    {
     "data": {
      "text/plain": [
       "array([1, 2])"
      ]
     },
     "execution_count": 9,
     "metadata": {},
     "output_type": "execute_result"
    }
   ],
   "source": [
    "y_train"
   ]
  },
  {
   "cell_type": "code",
   "execution_count": 10,
   "id": "187ff76d",
   "metadata": {},
   "outputs": [
    {
     "data": {
      "text/plain": [
       "array([3, 4])"
      ]
     },
     "execution_count": 10,
     "metadata": {},
     "output_type": "execute_result"
    }
   ],
   "source": [
    "y_test"
   ]
  },
  {
   "cell_type": "code",
   "execution_count": 11,
   "id": "efa50bfa",
   "metadata": {},
   "outputs": [],
   "source": [
    "import pandas as pd"
   ]
  },
  {
   "cell_type": "code",
   "execution_count": 12,
   "id": "fb2c3cbe",
   "metadata": {},
   "outputs": [
    {
     "name": "stderr",
     "output_type": "stream",
     "text": [
      "C:\\Users\\HP\\anaconda3\\envs\\nlp_course\\lib\\site-packages\\ipykernel_launcher.py:3: ParserWarning: Falling back to the 'python' engine because the 'c' engine does not support regex separators (separators > 1 char and different from '\\s+' are interpreted as regex); you can avoid this warning by specifying engine='python'.\n",
      "  This is separate from the ipykernel package so we can avoid doing imports until\n"
     ]
    }
   ],
   "source": [
    "glass0 = pd.read_csv('glass0_CSV.csv', \n",
    "                 sep=\",\\s+\", #separator whitespace\n",
    "                 header=None)"
   ]
  },
  {
   "cell_type": "code",
   "execution_count": 13,
   "id": "eef8c284",
   "metadata": {},
   "outputs": [
    {
     "data": {
      "text/html": [
       "<div>\n",
       "<style scoped>\n",
       "    .dataframe tbody tr th:only-of-type {\n",
       "        vertical-align: middle;\n",
       "    }\n",
       "\n",
       "    .dataframe tbody tr th {\n",
       "        vertical-align: top;\n",
       "    }\n",
       "\n",
       "    .dataframe thead th {\n",
       "        text-align: right;\n",
       "    }\n",
       "</style>\n",
       "<table border=\"1\" class=\"dataframe\">\n",
       "  <thead>\n",
       "    <tr style=\"text-align: right;\">\n",
       "      <th></th>\n",
       "      <th>0</th>\n",
       "      <th>1</th>\n",
       "      <th>2</th>\n",
       "      <th>3</th>\n",
       "      <th>4</th>\n",
       "      <th>5</th>\n",
       "      <th>6</th>\n",
       "      <th>7</th>\n",
       "      <th>8</th>\n",
       "      <th>9</th>\n",
       "    </tr>\n",
       "  </thead>\n",
       "  <tbody>\n",
       "    <tr>\n",
       "      <th>0</th>\n",
       "      <td>\"1.51588824</td>\n",
       "      <td>12.87795</td>\n",
       "      <td>3.43036</td>\n",
       "      <td>1.40066</td>\n",
       "      <td>73.2820</td>\n",
       "      <td>0.68931</td>\n",
       "      <td>8.04468</td>\n",
       "      <td>0.0</td>\n",
       "      <td>0.1224</td>\n",
       "      <td>positive\"</td>\n",
       "    </tr>\n",
       "    <tr>\n",
       "      <th>1</th>\n",
       "      <td>\"1.5176423</td>\n",
       "      <td>12.97770</td>\n",
       "      <td>3.53812</td>\n",
       "      <td>1.21127</td>\n",
       "      <td>73.0020</td>\n",
       "      <td>0.65205</td>\n",
       "      <td>8.52888</td>\n",
       "      <td>0.0</td>\n",
       "      <td>0.0000</td>\n",
       "      <td>positive\"</td>\n",
       "    </tr>\n",
       "    <tr>\n",
       "      <th>2</th>\n",
       "      <td>\"1.52212996</td>\n",
       "      <td>14.20795</td>\n",
       "      <td>3.82099</td>\n",
       "      <td>0.46976</td>\n",
       "      <td>71.7700</td>\n",
       "      <td>0.11178</td>\n",
       "      <td>9.57260</td>\n",
       "      <td>0.0</td>\n",
       "      <td>0.0000</td>\n",
       "      <td>positive\"</td>\n",
       "    </tr>\n",
       "    <tr>\n",
       "      <th>3</th>\n",
       "      <td>\"1.52222108</td>\n",
       "      <td>13.21045</td>\n",
       "      <td>3.77160</td>\n",
       "      <td>0.79076</td>\n",
       "      <td>71.9884</td>\n",
       "      <td>0.13041</td>\n",
       "      <td>10.24520</td>\n",
       "      <td>0.0</td>\n",
       "      <td>0.0000</td>\n",
       "      <td>positive\"</td>\n",
       "    </tr>\n",
       "    <tr>\n",
       "      <th>4</th>\n",
       "      <td>\"1.51755118</td>\n",
       "      <td>13.39000</td>\n",
       "      <td>3.65935</td>\n",
       "      <td>1.18880</td>\n",
       "      <td>72.7892</td>\n",
       "      <td>0.57132</td>\n",
       "      <td>8.27064</td>\n",
       "      <td>0.0</td>\n",
       "      <td>0.0561</td>\n",
       "      <td>positive\"</td>\n",
       "    </tr>\n",
       "  </tbody>\n",
       "</table>\n",
       "</div>"
      ],
      "text/plain": [
       "             0         1        2        3        4        5         6    7  \\\n",
       "0  \"1.51588824  12.87795  3.43036  1.40066  73.2820  0.68931   8.04468  0.0   \n",
       "1   \"1.5176423  12.97770  3.53812  1.21127  73.0020  0.65205   8.52888  0.0   \n",
       "2  \"1.52212996  14.20795  3.82099  0.46976  71.7700  0.11178   9.57260  0.0   \n",
       "3  \"1.52222108  13.21045  3.77160  0.79076  71.9884  0.13041  10.24520  0.0   \n",
       "4  \"1.51755118  13.39000  3.65935  1.18880  72.7892  0.57132   8.27064  0.0   \n",
       "\n",
       "        8          9  \n",
       "0  0.1224  positive\"  \n",
       "1  0.0000  positive\"  \n",
       "2  0.0000  positive\"  \n",
       "3  0.0000  positive\"  \n",
       "4  0.0561  positive\"  "
      ]
     },
     "execution_count": 13,
     "metadata": {},
     "output_type": "execute_result"
    }
   ],
   "source": [
    "glass0.head()"
   ]
  },
  {
   "cell_type": "code",
   "execution_count": 14,
   "id": "e73dc2a0",
   "metadata": {},
   "outputs": [],
   "source": [
    "glass0.columns =['RI', 'Na', 'Mg', 'Al', 'Si', 'K','Ca', 'Ba', 'Fe', 'Class']"
   ]
  },
  {
   "cell_type": "code",
   "execution_count": 15,
   "id": "77a72ca0",
   "metadata": {},
   "outputs": [
    {
     "data": {
      "text/html": [
       "<div>\n",
       "<style scoped>\n",
       "    .dataframe tbody tr th:only-of-type {\n",
       "        vertical-align: middle;\n",
       "    }\n",
       "\n",
       "    .dataframe tbody tr th {\n",
       "        vertical-align: top;\n",
       "    }\n",
       "\n",
       "    .dataframe thead th {\n",
       "        text-align: right;\n",
       "    }\n",
       "</style>\n",
       "<table border=\"1\" class=\"dataframe\">\n",
       "  <thead>\n",
       "    <tr style=\"text-align: right;\">\n",
       "      <th></th>\n",
       "      <th>RI</th>\n",
       "      <th>Na</th>\n",
       "      <th>Mg</th>\n",
       "      <th>Al</th>\n",
       "      <th>Si</th>\n",
       "      <th>K</th>\n",
       "      <th>Ca</th>\n",
       "      <th>Ba</th>\n",
       "      <th>Fe</th>\n",
       "      <th>Class</th>\n",
       "    </tr>\n",
       "  </thead>\n",
       "  <tbody>\n",
       "    <tr>\n",
       "      <th>0</th>\n",
       "      <td>\"1.51588824</td>\n",
       "      <td>12.87795</td>\n",
       "      <td>3.43036</td>\n",
       "      <td>1.40066</td>\n",
       "      <td>73.2820</td>\n",
       "      <td>0.68931</td>\n",
       "      <td>8.04468</td>\n",
       "      <td>0.0</td>\n",
       "      <td>0.1224</td>\n",
       "      <td>positive\"</td>\n",
       "    </tr>\n",
       "    <tr>\n",
       "      <th>1</th>\n",
       "      <td>\"1.5176423</td>\n",
       "      <td>12.97770</td>\n",
       "      <td>3.53812</td>\n",
       "      <td>1.21127</td>\n",
       "      <td>73.0020</td>\n",
       "      <td>0.65205</td>\n",
       "      <td>8.52888</td>\n",
       "      <td>0.0</td>\n",
       "      <td>0.0000</td>\n",
       "      <td>positive\"</td>\n",
       "    </tr>\n",
       "    <tr>\n",
       "      <th>2</th>\n",
       "      <td>\"1.52212996</td>\n",
       "      <td>14.20795</td>\n",
       "      <td>3.82099</td>\n",
       "      <td>0.46976</td>\n",
       "      <td>71.7700</td>\n",
       "      <td>0.11178</td>\n",
       "      <td>9.57260</td>\n",
       "      <td>0.0</td>\n",
       "      <td>0.0000</td>\n",
       "      <td>positive\"</td>\n",
       "    </tr>\n",
       "    <tr>\n",
       "      <th>3</th>\n",
       "      <td>\"1.52222108</td>\n",
       "      <td>13.21045</td>\n",
       "      <td>3.77160</td>\n",
       "      <td>0.79076</td>\n",
       "      <td>71.9884</td>\n",
       "      <td>0.13041</td>\n",
       "      <td>10.24520</td>\n",
       "      <td>0.0</td>\n",
       "      <td>0.0000</td>\n",
       "      <td>positive\"</td>\n",
       "    </tr>\n",
       "    <tr>\n",
       "      <th>4</th>\n",
       "      <td>\"1.51755118</td>\n",
       "      <td>13.39000</td>\n",
       "      <td>3.65935</td>\n",
       "      <td>1.18880</td>\n",
       "      <td>72.7892</td>\n",
       "      <td>0.57132</td>\n",
       "      <td>8.27064</td>\n",
       "      <td>0.0</td>\n",
       "      <td>0.0561</td>\n",
       "      <td>positive\"</td>\n",
       "    </tr>\n",
       "  </tbody>\n",
       "</table>\n",
       "</div>"
      ],
      "text/plain": [
       "            RI        Na       Mg       Al       Si        K        Ca   Ba  \\\n",
       "0  \"1.51588824  12.87795  3.43036  1.40066  73.2820  0.68931   8.04468  0.0   \n",
       "1   \"1.5176423  12.97770  3.53812  1.21127  73.0020  0.65205   8.52888  0.0   \n",
       "2  \"1.52212996  14.20795  3.82099  0.46976  71.7700  0.11178   9.57260  0.0   \n",
       "3  \"1.52222108  13.21045  3.77160  0.79076  71.9884  0.13041  10.24520  0.0   \n",
       "4  \"1.51755118  13.39000  3.65935  1.18880  72.7892  0.57132   8.27064  0.0   \n",
       "\n",
       "       Fe      Class  \n",
       "0  0.1224  positive\"  \n",
       "1  0.0000  positive\"  \n",
       "2  0.0000  positive\"  \n",
       "3  0.0000  positive\"  \n",
       "4  0.0561  positive\"  "
      ]
     },
     "execution_count": 15,
     "metadata": {},
     "output_type": "execute_result"
    }
   ],
   "source": [
    "glass0.head()"
   ]
  },
  {
   "cell_type": "code",
   "execution_count": 17,
   "id": "2820b33a",
   "metadata": {},
   "outputs": [],
   "source": [
    "for i, row in glass0.iterrows():\n",
    "    glass0.at[i, 'RI']=glass0.at[i, 'RI'].replace(\"\\\"\", \"\")\n",
    "    glass0.at[i, 'Class']=glass0.at[i, 'Class'].replace(\"\\\"\", \"\")"
   ]
  },
  {
   "cell_type": "code",
   "execution_count": 19,
   "id": "1b64e6b8",
   "metadata": {},
   "outputs": [],
   "source": [
    "for i, row in glass0.iterrows():\n",
    "    str=glass0.at[i, 'Class']\n",
    "    if(str=='positive'):\n",
    "        glass0.at[i, 'Class']=1;\n",
    "    else:\n",
    "        glass0.at[i, 'Class']=0;"
   ]
  },
  {
   "cell_type": "code",
   "execution_count": 20,
   "id": "691b4b2f",
   "metadata": {},
   "outputs": [],
   "source": [
    "glass0['RI'] = pd.to_numeric(glass0['RI'], errors='coerce')"
   ]
  },
  {
   "cell_type": "code",
   "execution_count": 21,
   "id": "4e095035",
   "metadata": {},
   "outputs": [],
   "source": [
    "glass0['Class'] = pd.to_numeric(glass0['Class'], errors='coerce')"
   ]
  },
  {
   "cell_type": "code",
   "execution_count": 22,
   "id": "da28ca38",
   "metadata": {},
   "outputs": [],
   "source": [
    "x=glass0[['RI', 'Na', 'Mg', 'Al', 'Si', 'K','Ca', 'Ba', 'Fe']]"
   ]
  },
  {
   "cell_type": "code",
   "execution_count": 23,
   "id": "817f131e",
   "metadata": {},
   "outputs": [],
   "source": [
    "y=glass0['Class']"
   ]
  },
  {
   "cell_type": "code",
   "execution_count": 24,
   "id": "2aa08e24",
   "metadata": {},
   "outputs": [],
   "source": [
    "from sklearn.model_selection import train_test_split\n",
    "from sklearn.neighbors import KNeighborsClassifier\n",
    "from sklearn import metrics"
   ]
  },
  {
   "cell_type": "code",
   "execution_count": 25,
   "id": "82b39071",
   "metadata": {},
   "outputs": [],
   "source": [
    "x_train, x_test, y_train, y_test= train_test_split (x,y,test_size=0.3)"
   ]
  },
  {
   "cell_type": "code",
   "execution_count": 26,
   "id": "11206506",
   "metadata": {},
   "outputs": [
    {
     "data": {
      "text/plain": [
       "(149, 9)"
      ]
     },
     "execution_count": 26,
     "metadata": {},
     "output_type": "execute_result"
    }
   ],
   "source": [
    "x_train.shape"
   ]
  },
  {
   "cell_type": "code",
   "execution_count": 27,
   "id": "ac233f5f",
   "metadata": {},
   "outputs": [
    {
     "data": {
      "text/plain": [
       "0.7846153846153846"
      ]
     },
     "execution_count": 27,
     "metadata": {},
     "output_type": "execute_result"
    }
   ],
   "source": [
    "knnclassifier=KNeighborsClassifier(n_neighbors=5)\n",
    "knnclassifier.fit(x_train, y_train)\n",
    "y_pred=knnclassifier.predict(x_test)\n",
    "metrics.accuracy_score(y_test, y_pred)"
   ]
  },
  {
   "cell_type": "code",
   "execution_count": 28,
   "id": "e22d5ab2",
   "metadata": {},
   "outputs": [
    {
     "data": {
      "text/plain": [
       "array([0, 1, 0, 1, 1, 1, 0, 0, 0, 0, 1, 1, 0, 0, 1, 1, 0, 0, 0, 0, 1, 0,\n",
       "       0, 0, 0, 1, 0, 1, 0, 0, 1, 1, 0, 1, 1, 0, 1, 0, 1, 0, 0, 0, 0, 1,\n",
       "       0, 0, 1, 0, 0, 0, 1, 0, 0, 1, 0, 0, 1, 0, 0, 0, 0, 0, 0, 0, 0],\n",
       "      dtype=int64)"
      ]
     },
     "execution_count": 28,
     "metadata": {},
     "output_type": "execute_result"
    }
   ],
   "source": [
    "y_pred"
   ]
  },
  {
   "cell_type": "code",
   "execution_count": 29,
   "id": "9602347c",
   "metadata": {},
   "outputs": [],
   "source": [
    "from sklearn.model_selection import cross_val_score"
   ]
  },
  {
   "cell_type": "code",
   "execution_count": 30,
   "id": "406d02a3",
   "metadata": {},
   "outputs": [
    {
     "name": "stdout",
     "output_type": "stream",
     "text": [
      "0.7523809523809524\n"
     ]
    }
   ],
   "source": [
    "knnclassifier=KNeighborsClassifier(n_neighbors=5)\n",
    "print(cross_val_score(knnclassifier, x, y, cv=10, scoring =\"accuracy\").mean())"
   ]
  },
  {
   "cell_type": "code",
   "execution_count": 31,
   "id": "5d6e9a29",
   "metadata": {},
   "outputs": [],
   "source": [
    "from warnings import simplefilter\n",
    "# ignore all future warnings\n",
    "simplefilter(action='ignore', category=FutureWarning)"
   ]
  },
  {
   "cell_type": "code",
   "execution_count": 32,
   "id": "93df28d3",
   "metadata": {},
   "outputs": [
    {
     "name": "stdout",
     "output_type": "stream",
     "text": [
      "0.7015151515151514\n"
     ]
    }
   ],
   "source": [
    "from sklearn.linear_model import LogisticRegression\n",
    "logreg=LogisticRegression()\n",
    "print(cross_val_score(logreg, x, y, cv=10, scoring =\"accuracy\").mean())"
   ]
  },
  {
   "cell_type": "code",
   "execution_count": 33,
   "id": "a083f366",
   "metadata": {},
   "outputs": [
    {
     "data": {
      "text/plain": [
       "0.7076923076923077"
      ]
     },
     "execution_count": 33,
     "metadata": {},
     "output_type": "execute_result"
    }
   ],
   "source": [
    "logreg=LogisticRegression()\n",
    "logreg.fit(x_train, y_train)\n",
    "logreg.score(x_test, y_test)"
   ]
  },
  {
   "cell_type": "code",
   "execution_count": 34,
   "id": "644671d8",
   "metadata": {},
   "outputs": [],
   "source": [
    "from sklearn.svm import SVC\n",
    "from sklearn.ensemble import RandomForestClassifier"
   ]
  },
  {
   "cell_type": "code",
   "execution_count": 35,
   "id": "75779d76",
   "metadata": {},
   "outputs": [
    {
     "data": {
      "text/plain": [
       "0.7384615384615385"
      ]
     },
     "execution_count": 35,
     "metadata": {},
     "output_type": "execute_result"
    }
   ],
   "source": [
    "svm=SVC()\n",
    "svm.fit(x_train, y_train)\n",
    "svm.score(x_test, y_test)"
   ]
  },
  {
   "cell_type": "code",
   "execution_count": 36,
   "id": "3559bad6",
   "metadata": {},
   "outputs": [],
   "source": [
    "from sklearn.model_selection import KFold\n",
    "kf=KFold(n_splits=5)"
   ]
  },
  {
   "cell_type": "code",
   "execution_count": 37,
   "id": "314cabbe",
   "metadata": {},
   "outputs": [],
   "source": [
    "def get_score(model, x_train, x_test, y_train, y_test):\n",
    "    model.fit(x_train, y_train)\n",
    "    return model.score(x_test, y_test)"
   ]
  },
  {
   "cell_type": "code",
   "execution_count": 38,
   "id": "e9a70840",
   "metadata": {},
   "outputs": [
    {
     "data": {
      "text/plain": [
       "0.7384615384615385"
      ]
     },
     "execution_count": 38,
     "metadata": {},
     "output_type": "execute_result"
    }
   ],
   "source": [
    "get_score(SVC(), x_train, x_test, y_train, y_test)"
   ]
  },
  {
   "cell_type": "code",
   "execution_count": 39,
   "id": "05fafbe4",
   "metadata": {},
   "outputs": [],
   "source": [
    "from sklearn.cluster import KMeans\n",
    "from sklearn.preprocessing import MinMaxScaler\n",
    "from matplotlib import pyplot as plt\n",
    "%matplotlib inline"
   ]
  },
  {
   "cell_type": "code",
   "execution_count": 40,
   "id": "77718336",
   "metadata": {},
   "outputs": [],
   "source": [
    "testdata=pd.read_csv(\"https://raw.githubusercontent.com/codebasics/py/master/ML/13_kmeans/income.csv\")"
   ]
  },
  {
   "cell_type": "code",
   "execution_count": 41,
   "id": "dcba277b",
   "metadata": {},
   "outputs": [
    {
     "data": {
      "text/html": [
       "<div>\n",
       "<style scoped>\n",
       "    .dataframe tbody tr th:only-of-type {\n",
       "        vertical-align: middle;\n",
       "    }\n",
       "\n",
       "    .dataframe tbody tr th {\n",
       "        vertical-align: top;\n",
       "    }\n",
       "\n",
       "    .dataframe thead th {\n",
       "        text-align: right;\n",
       "    }\n",
       "</style>\n",
       "<table border=\"1\" class=\"dataframe\">\n",
       "  <thead>\n",
       "    <tr style=\"text-align: right;\">\n",
       "      <th></th>\n",
       "      <th>Name</th>\n",
       "      <th>Age</th>\n",
       "      <th>Income($)</th>\n",
       "    </tr>\n",
       "  </thead>\n",
       "  <tbody>\n",
       "    <tr>\n",
       "      <th>0</th>\n",
       "      <td>Rob</td>\n",
       "      <td>27</td>\n",
       "      <td>70000</td>\n",
       "    </tr>\n",
       "    <tr>\n",
       "      <th>1</th>\n",
       "      <td>Michael</td>\n",
       "      <td>29</td>\n",
       "      <td>90000</td>\n",
       "    </tr>\n",
       "    <tr>\n",
       "      <th>2</th>\n",
       "      <td>Mohan</td>\n",
       "      <td>29</td>\n",
       "      <td>61000</td>\n",
       "    </tr>\n",
       "    <tr>\n",
       "      <th>3</th>\n",
       "      <td>Ismail</td>\n",
       "      <td>28</td>\n",
       "      <td>60000</td>\n",
       "    </tr>\n",
       "    <tr>\n",
       "      <th>4</th>\n",
       "      <td>Kory</td>\n",
       "      <td>42</td>\n",
       "      <td>150000</td>\n",
       "    </tr>\n",
       "  </tbody>\n",
       "</table>\n",
       "</div>"
      ],
      "text/plain": [
       "      Name  Age  Income($)\n",
       "0      Rob   27      70000\n",
       "1  Michael   29      90000\n",
       "2    Mohan   29      61000\n",
       "3   Ismail   28      60000\n",
       "4     Kory   42     150000"
      ]
     },
     "execution_count": 41,
     "metadata": {},
     "output_type": "execute_result"
    }
   ],
   "source": [
    "testdata.head()"
   ]
  },
  {
   "cell_type": "code",
   "execution_count": 42,
   "id": "d036a305",
   "metadata": {},
   "outputs": [
    {
     "data": {
      "text/plain": [
       "Text(0, 0.5, 'Income($)')"
      ]
     },
     "execution_count": 42,
     "metadata": {},
     "output_type": "execute_result"
    },
    {
     "data": {
      "image/png": "[encoded data removed]",
      "text/plain": [
       "<Figure size 432x288 with 1 Axes>"
      ]
     },
     "metadata": {
      "needs_background": "light"
     },
     "output_type": "display_data"
    }
   ],
   "source": [
    "plt.scatter(testdata['Age'],testdata['Income($)'])\n",
    "plt.xlabel('Age')\n",
    "plt.ylabel('Income($)')"
   ]
  },
  {
   "cell_type": "code",
   "execution_count": 43,
   "id": "bec23491",
   "metadata": {},
   "outputs": [
    {
     "data": {
      "text/plain": [
       "array([2, 2, 0, 0, 1, 1, 1, 1, 1, 1, 1, 0, 0, 0, 0, 0, 0, 0, 0, 2, 2, 0])"
      ]
     },
     "execution_count": 43,
     "metadata": {},
     "output_type": "execute_result"
    }
   ],
   "source": [
    "km = KMeans(n_clusters=3)\n",
    "y_predicted = km.fit_predict(testdata[['Age','Income($)']])\n",
    "y_predicted"
   ]
  },
  {
   "cell_type": "code",
   "execution_count": 44,
   "id": "dafb8255",
   "metadata": {},
   "outputs": [],
   "source": [
    "testdata['cluster']=y_predicted"
   ]
  },
  {
   "cell_type": "code",
   "execution_count": 45,
   "id": "0a138c94",
   "metadata": {},
   "outputs": [
    {
     "data": {
      "text/plain": [
       "array([[3.29090909e+01, 5.61363636e+04],\n",
       "       [3.82857143e+01, 1.50000000e+05],\n",
       "       [3.40000000e+01, 8.05000000e+04]])"
      ]
     },
     "execution_count": 45,
     "metadata": {},
     "output_type": "execute_result"
    }
   ],
   "source": [
    "km.cluster_centers_"
   ]
  },
  {
   "cell_type": "code",
   "execution_count": 46,
   "id": "231cbca1",
   "metadata": {},
   "outputs": [
    {
     "data": {
      "text/plain": [
       "<matplotlib.legend.Legend at 0x1f7e49f1508>"
      ]
     },
     "execution_count": 46,
     "metadata": {},
     "output_type": "execute_result"
    },
    {
     "data": {
      "image/png": "[encoded data removed]",
      "text/plain": [
       "<Figure size 432x288 with 1 Axes>"
      ]
     },
     "metadata": {
      "needs_background": "light"
     },
     "output_type": "display_data"
    }
   ],
   "source": [
    "df1 = testdata[testdata.cluster==0]\n",
    "df2 = testdata[testdata.cluster==1]\n",
    "df3 = testdata[testdata.cluster==2]\n",
    "plt.scatter(df1.Age,df1['Income($)'],color='green')\n",
    "plt.scatter(df2.Age,df2['Income($)'],color='red')\n",
    "plt.scatter(df3.Age,df3['Income($)'],color='black')\n",
    "plt.scatter(km.cluster_centers_[:,0],km.cluster_centers_[:,1],color='purple',marker='*',label='centroid')\n",
    "plt.xlabel('Age')\n",
    "plt.ylabel('Income ($)')\n",
    "plt.legend()"
   ]
  },
  {
   "cell_type": "code",
   "execution_count": 47,
   "id": "2ba4f41a",
   "metadata": {},
   "outputs": [
    {
     "name": "stderr",
     "output_type": "stream",
     "text": [
      "C:\\Users\\HP\\anaconda3\\envs\\nlp_course\\lib\\site-packages\\sklearn\\preprocessing\\data.py:323: DataConversionWarning: Data with input dtype int64 were all converted to float64 by MinMaxScaler.\n",
      "  return self.partial_fit(X, y)\n",
      "C:\\Users\\HP\\anaconda3\\envs\\nlp_course\\lib\\site-packages\\sklearn\\preprocessing\\data.py:323: DataConversionWarning: Data with input dtype int64 were all converted to float64 by MinMaxScaler.\n",
      "  return self.partial_fit(X, y)\n"
     ]
    }
   ],
   "source": [
    "scaler = MinMaxScaler()\n",
    "\n",
    "scaler.fit(testdata[['Income($)']])\n",
    "testdata['Income($)'] = scaler.transform(testdata[['Income($)']])\n",
    "\n",
    "scaler.fit(testdata[['Age']])\n",
    "testdata['Age'] = scaler.transform(testdata[['Age']])"
   ]
  },
  {
   "cell_type": "code",
   "execution_count": 48,
   "id": "dfde4593",
   "metadata": {},
   "outputs": [
    {
     "data": {
      "text/plain": [
       "<matplotlib.collections.PathCollection at 0x1f7e4aafac8>"
      ]
     },
     "execution_count": 48,
     "metadata": {},
     "output_type": "execute_result"
    },
    {
     "data": {
      "image/png": "[encoded data removed]",
      "text/plain": [
       "<Figure size 432x288 with 1 Axes>"
      ]
     },
     "metadata": {
      "needs_background": "light"
     },
     "output_type": "display_data"
    }
   ],
   "source": [
    "plt.scatter(testdata.Age,testdata['Income($)'])"
   ]
  },
  {
   "cell_type": "code",
   "execution_count": 49,
   "id": "9bcc63e1",
   "metadata": {},
   "outputs": [
    {
     "data": {
      "text/plain": [
       "array([0, 0, 0, 0, 1, 1, 1, 1, 1, 1, 1, 0, 0, 0, 0, 0, 2, 2, 2, 2, 2, 2])"
      ]
     },
     "execution_count": 49,
     "metadata": {},
     "output_type": "execute_result"
    }
   ],
   "source": [
    "km = KMeans(n_clusters=3)\n",
    "y_predicted = km.fit_predict(testdata[['Age','Income($)']])\n",
    "y_predicted"
   ]
  },
  {
   "cell_type": "code",
   "execution_count": 50,
   "id": "58d5c943",
   "metadata": {},
   "outputs": [],
   "source": [
    "testdata['cluster']=y_predicted"
   ]
  },
  {
   "cell_type": "code",
   "execution_count": 51,
   "id": "34e365d3",
   "metadata": {},
   "outputs": [
    {
     "data": {
      "text/html": [
       "<div>\n",
       "<style scoped>\n",
       "    .dataframe tbody tr th:only-of-type {\n",
       "        vertical-align: middle;\n",
       "    }\n",
       "\n",
       "    .dataframe tbody tr th {\n",
       "        vertical-align: top;\n",
       "    }\n",
       "\n",
       "    .dataframe thead th {\n",
       "        text-align: right;\n",
       "    }\n",
       "</style>\n",
       "<table border=\"1\" class=\"dataframe\">\n",
       "  <thead>\n",
       "    <tr style=\"text-align: right;\">\n",
       "      <th></th>\n",
       "      <th>Name</th>\n",
       "      <th>Age</th>\n",
       "      <th>Income($)</th>\n",
       "      <th>cluster</th>\n",
       "    </tr>\n",
       "  </thead>\n",
       "  <tbody>\n",
       "    <tr>\n",
       "      <th>0</th>\n",
       "      <td>Rob</td>\n",
       "      <td>0.058824</td>\n",
       "      <td>0.213675</td>\n",
       "      <td>0</td>\n",
       "    </tr>\n",
       "    <tr>\n",
       "      <th>1</th>\n",
       "      <td>Michael</td>\n",
       "      <td>0.176471</td>\n",
       "      <td>0.384615</td>\n",
       "      <td>0</td>\n",
       "    </tr>\n",
       "    <tr>\n",
       "      <th>2</th>\n",
       "      <td>Mohan</td>\n",
       "      <td>0.176471</td>\n",
       "      <td>0.136752</td>\n",
       "      <td>0</td>\n",
       "    </tr>\n",
       "    <tr>\n",
       "      <th>3</th>\n",
       "      <td>Ismail</td>\n",
       "      <td>0.117647</td>\n",
       "      <td>0.128205</td>\n",
       "      <td>0</td>\n",
       "    </tr>\n",
       "    <tr>\n",
       "      <th>4</th>\n",
       "      <td>Kory</td>\n",
       "      <td>0.941176</td>\n",
       "      <td>0.897436</td>\n",
       "      <td>1</td>\n",
       "    </tr>\n",
       "  </tbody>\n",
       "</table>\n",
       "</div>"
      ],
      "text/plain": [
       "      Name       Age  Income($)  cluster\n",
       "0      Rob  0.058824   0.213675        0\n",
       "1  Michael  0.176471   0.384615        0\n",
       "2    Mohan  0.176471   0.136752        0\n",
       "3   Ismail  0.117647   0.128205        0\n",
       "4     Kory  0.941176   0.897436        1"
      ]
     },
     "execution_count": 51,
     "metadata": {},
     "output_type": "execute_result"
    }
   ],
   "source": [
    "testdata.head()"
   ]
  },
  {
   "cell_type": "code",
   "execution_count": 52,
   "id": "053db04b",
   "metadata": {},
   "outputs": [
    {
     "data": {
      "text/plain": [
       "<matplotlib.legend.Legend at 0x1f7e39adf88>"
      ]
     },
     "execution_count": 52,
     "metadata": {},
     "output_type": "execute_result"
    },
    {
     "data": {
      "image/png": "[encoded data removed]",
      "text/plain": [
       "<Figure size 432x288 with 1 Axes>"
      ]
     },
     "metadata": {
      "needs_background": "light"
     },
     "output_type": "display_data"
    }
   ],
   "source": [
    "df1 = testdata[testdata.cluster==0]\n",
    "df2 = testdata[testdata.cluster==1]\n",
    "df3 = testdata[testdata.cluster==2]\n",
    "plt.scatter(df1.Age,df1['Income($)'],color='green')\n",
    "plt.scatter(df2.Age,df2['Income($)'],color='red')\n",
    "plt.scatter(df3.Age,df3['Income($)'],color='black')\n",
    "plt.scatter(km.cluster_centers_[:,0],km.cluster_centers_[:,1],color='purple',marker='*',label='centroid')\n",
    "plt.xlabel('Age')\n",
    "plt.ylabel('Income ($)')\n",
    "plt.legend()"
   ]
  },
  {
   "cell_type": "code",
   "execution_count": 53,
   "id": "c0dec343",
   "metadata": {},
   "outputs": [],
   "source": [
    "sse = []\n",
    "k_rng = range(1,10)\n",
    "for k in k_rng:\n",
    "    km = KMeans(n_clusters=k)\n",
    "    km.fit(testdata[['Age','Income($)']])\n",
    "    sse.append(km.inertia_)"
   ]
  },
  {
   "cell_type": "code",
   "execution_count": 54,
   "id": "7bd9ee7b",
   "metadata": {},
   "outputs": [
    {
     "data": {
      "text/plain": [
       "[<matplotlib.lines.Line2D at 0x1f7e4b8b248>]"
      ]
     },
     "execution_count": 54,
     "metadata": {},
     "output_type": "execute_result"
    },
    {
     "data": {
      "image/png": "[encoded data removed]",
      "text/plain": [
       "<Figure size 432x288 with 1 Axes>"
      ]
     },
     "metadata": {
      "needs_background": "light"
     },
     "output_type": "display_data"
    }
   ],
   "source": [
    "plt.xlabel('K')\n",
    "plt.ylabel('Sum of squared error')\n",
    "plt.plot(k_rng,sse)"
   ]
  },
  {
   "cell_type": "code",
   "execution_count": 55,
   "id": "24614691",
   "metadata": {},
   "outputs": [],
   "source": [
    "x_train, x_test, y_train, y_test= train_test_split (x,y,test_size=0.2)"
   ]
  },
  {
   "cell_type": "code",
   "execution_count": 56,
   "id": "ccd1b6d0",
   "metadata": {},
   "outputs": [
    {
     "data": {
      "text/plain": [
       "(171, 9)"
      ]
     },
     "execution_count": 56,
     "metadata": {},
     "output_type": "execute_result"
    }
   ],
   "source": [
    "x_train.shape\n"
   ]
  },
  {
   "cell_type": "code",
   "execution_count": 57,
   "id": "ca8ac66b",
   "metadata": {},
   "outputs": [
    {
     "data": {
      "text/plain": [
       "(43, 9)"
      ]
     },
     "execution_count": 57,
     "metadata": {},
     "output_type": "execute_result"
    }
   ],
   "source": [
    "x_test.shape"
   ]
  },
  {
   "cell_type": "code",
   "execution_count": 58,
   "id": "3f8469c3",
   "metadata": {},
   "outputs": [
    {
     "data": {
      "text/html": [
       "<div>\n",
       "<style scoped>\n",
       "    .dataframe tbody tr th:only-of-type {\n",
       "        vertical-align: middle;\n",
       "    }\n",
       "\n",
       "    .dataframe tbody tr th {\n",
       "        vertical-align: top;\n",
       "    }\n",
       "\n",
       "    .dataframe thead th {\n",
       "        text-align: right;\n",
       "    }\n",
       "</style>\n",
       "<table border=\"1\" class=\"dataframe\">\n",
       "  <thead>\n",
       "    <tr style=\"text-align: right;\">\n",
       "      <th></th>\n",
       "      <th>RI</th>\n",
       "      <th>Na</th>\n",
       "      <th>Mg</th>\n",
       "      <th>Al</th>\n",
       "      <th>Si</th>\n",
       "      <th>K</th>\n",
       "      <th>Ca</th>\n",
       "      <th>Ba</th>\n",
       "      <th>Fe</th>\n",
       "    </tr>\n",
       "  </thead>\n",
       "  <tbody>\n",
       "    <tr>\n",
       "      <th>63</th>\n",
       "      <td>1.517665</td>\n",
       "      <td>13.21045</td>\n",
       "      <td>3.69078</td>\n",
       "      <td>1.29152</td>\n",
       "      <td>72.6100</td>\n",
       "      <td>0.57132</td>\n",
       "      <td>8.21684</td>\n",
       "      <td>0.0</td>\n",
       "      <td>0.0000</td>\n",
       "    </tr>\n",
       "    <tr>\n",
       "      <th>47</th>\n",
       "      <td>1.526663</td>\n",
       "      <td>13.98850</td>\n",
       "      <td>3.69976</td>\n",
       "      <td>0.71051</td>\n",
       "      <td>71.5684</td>\n",
       "      <td>0.01863</td>\n",
       "      <td>9.82008</td>\n",
       "      <td>0.0</td>\n",
       "      <td>0.0510</td>\n",
       "    </tr>\n",
       "    <tr>\n",
       "      <th>45</th>\n",
       "      <td>1.517506</td>\n",
       "      <td>12.81810</td>\n",
       "      <td>3.55159</td>\n",
       "      <td>1.49054</td>\n",
       "      <td>72.7500</td>\n",
       "      <td>0.54027</td>\n",
       "      <td>8.51812</td>\n",
       "      <td>0.0</td>\n",
       "      <td>0.0969</td>\n",
       "    </tr>\n",
       "    <tr>\n",
       "      <th>30</th>\n",
       "      <td>1.521515</td>\n",
       "      <td>13.05085</td>\n",
       "      <td>3.65037</td>\n",
       "      <td>0.87101</td>\n",
       "      <td>72.3188</td>\n",
       "      <td>0.19251</td>\n",
       "      <td>9.85236</td>\n",
       "      <td>0.0</td>\n",
       "      <td>0.0867</td>\n",
       "    </tr>\n",
       "    <tr>\n",
       "      <th>102</th>\n",
       "      <td>1.518462</td>\n",
       "      <td>13.09740</td>\n",
       "      <td>3.96916</td>\n",
       "      <td>1.18880</td>\n",
       "      <td>72.4420</td>\n",
       "      <td>0.60237</td>\n",
       "      <td>8.43204</td>\n",
       "      <td>0.0</td>\n",
       "      <td>0.0000</td>\n",
       "    </tr>\n",
       "  </tbody>\n",
       "</table>\n",
       "</div>"
      ],
      "text/plain": [
       "           RI        Na       Mg       Al       Si        K       Ca   Ba  \\\n",
       "63   1.517665  13.21045  3.69078  1.29152  72.6100  0.57132  8.21684  0.0   \n",
       "47   1.526663  13.98850  3.69976  0.71051  71.5684  0.01863  9.82008  0.0   \n",
       "45   1.517506  12.81810  3.55159  1.49054  72.7500  0.54027  8.51812  0.0   \n",
       "30   1.521515  13.05085  3.65037  0.87101  72.3188  0.19251  9.85236  0.0   \n",
       "102  1.518462  13.09740  3.96916  1.18880  72.4420  0.60237  8.43204  0.0   \n",
       "\n",
       "         Fe  \n",
       "63   0.0000  \n",
       "47   0.0510  \n",
       "45   0.0969  \n",
       "30   0.0867  \n",
       "102  0.0000  "
      ]
     },
     "execution_count": 58,
     "metadata": {},
     "output_type": "execute_result"
    }
   ],
   "source": [
    "x_train.head()"
   ]
  },
  {
   "cell_type": "code",
   "execution_count": 59,
   "id": "bf0aa56e",
   "metadata": {},
   "outputs": [],
   "source": [
    "train_set=x_train"
   ]
  },
  {
   "cell_type": "code",
   "execution_count": 108,
   "id": "c97a2569",
   "metadata": {},
   "outputs": [
    {
     "data": {
      "text/plain": [
       "(171, 10)"
      ]
     },
     "execution_count": 108,
     "metadata": {},
     "output_type": "execute_result"
    }
   ],
   "source": [
    "x_train.shape"
   ]
  },
  {
   "cell_type": "code",
   "execution_count": 109,
   "id": "f334f002",
   "metadata": {},
   "outputs": [
    {
     "data": {
      "text/plain": [
       "(43, 9)"
      ]
     },
     "execution_count": 109,
     "metadata": {},
     "output_type": "execute_result"
    }
   ],
   "source": [
    "x_test.shape"
   ]
  },
  {
   "cell_type": "code",
   "execution_count": 60,
   "id": "57afa764",
   "metadata": {},
   "outputs": [
    {
     "name": "stderr",
     "output_type": "stream",
     "text": [
      "C:\\Users\\HP\\anaconda3\\envs\\nlp_course\\lib\\site-packages\\ipykernel_launcher.py:1: SettingWithCopyWarning: \n",
      "A value is trying to be set on a copy of a slice from a DataFrame.\n",
      "Try using .loc[row_indexer,col_indexer] = value instead\n",
      "\n",
      "See the caveats in the documentation: http://pandas.pydata.org/pandas-docs/stable/indexing.html#indexing-view-versus-copy\n",
      "  \"\"\"Entry point for launching an IPython kernel.\n"
     ]
    }
   ],
   "source": [
    "train_set['Class']=y_train"
   ]
  },
  {
   "cell_type": "code",
   "execution_count": 61,
   "id": "cc44e282",
   "metadata": {},
   "outputs": [
    {
     "data": {
      "text/html": [
       "<div>\n",
       "<style scoped>\n",
       "    .dataframe tbody tr th:only-of-type {\n",
       "        vertical-align: middle;\n",
       "    }\n",
       "\n",
       "    .dataframe tbody tr th {\n",
       "        vertical-align: top;\n",
       "    }\n",
       "\n",
       "    .dataframe thead th {\n",
       "        text-align: right;\n",
       "    }\n",
       "</style>\n",
       "<table border=\"1\" class=\"dataframe\">\n",
       "  <thead>\n",
       "    <tr style=\"text-align: right;\">\n",
       "      <th></th>\n",
       "      <th>RI</th>\n",
       "      <th>Na</th>\n",
       "      <th>Mg</th>\n",
       "      <th>Al</th>\n",
       "      <th>Si</th>\n",
       "      <th>K</th>\n",
       "      <th>Ca</th>\n",
       "      <th>Ba</th>\n",
       "      <th>Fe</th>\n",
       "      <th>Class</th>\n",
       "    </tr>\n",
       "  </thead>\n",
       "  <tbody>\n",
       "    <tr>\n",
       "      <th>63</th>\n",
       "      <td>1.517665</td>\n",
       "      <td>13.21045</td>\n",
       "      <td>3.69078</td>\n",
       "      <td>1.29152</td>\n",
       "      <td>72.6100</td>\n",
       "      <td>0.57132</td>\n",
       "      <td>8.21684</td>\n",
       "      <td>0.00000</td>\n",
       "      <td>0.0000</td>\n",
       "      <td>1</td>\n",
       "    </tr>\n",
       "    <tr>\n",
       "      <th>47</th>\n",
       "      <td>1.526663</td>\n",
       "      <td>13.98850</td>\n",
       "      <td>3.69976</td>\n",
       "      <td>0.71051</td>\n",
       "      <td>71.5684</td>\n",
       "      <td>0.01863</td>\n",
       "      <td>9.82008</td>\n",
       "      <td>0.00000</td>\n",
       "      <td>0.0510</td>\n",
       "      <td>1</td>\n",
       "    </tr>\n",
       "    <tr>\n",
       "      <th>45</th>\n",
       "      <td>1.517506</td>\n",
       "      <td>12.81810</td>\n",
       "      <td>3.55159</td>\n",
       "      <td>1.49054</td>\n",
       "      <td>72.7500</td>\n",
       "      <td>0.54027</td>\n",
       "      <td>8.51812</td>\n",
       "      <td>0.00000</td>\n",
       "      <td>0.0969</td>\n",
       "      <td>1</td>\n",
       "    </tr>\n",
       "    <tr>\n",
       "      <th>30</th>\n",
       "      <td>1.521515</td>\n",
       "      <td>13.05085</td>\n",
       "      <td>3.65037</td>\n",
       "      <td>0.87101</td>\n",
       "      <td>72.3188</td>\n",
       "      <td>0.19251</td>\n",
       "      <td>9.85236</td>\n",
       "      <td>0.00000</td>\n",
       "      <td>0.0867</td>\n",
       "      <td>1</td>\n",
       "    </tr>\n",
       "    <tr>\n",
       "      <th>102</th>\n",
       "      <td>1.518462</td>\n",
       "      <td>13.09740</td>\n",
       "      <td>3.96916</td>\n",
       "      <td>1.18880</td>\n",
       "      <td>72.4420</td>\n",
       "      <td>0.60237</td>\n",
       "      <td>8.43204</td>\n",
       "      <td>0.00000</td>\n",
       "      <td>0.0000</td>\n",
       "      <td>0</td>\n",
       "    </tr>\n",
       "    <tr>\n",
       "      <th>206</th>\n",
       "      <td>1.516093</td>\n",
       "      <td>15.12600</td>\n",
       "      <td>0.00000</td>\n",
       "      <td>2.51132</td>\n",
       "      <td>73.0524</td>\n",
       "      <td>0.04968</td>\n",
       "      <td>8.83016</td>\n",
       "      <td>0.52920</td>\n",
       "      <td>0.0000</td>\n",
       "      <td>0</td>\n",
       "    </tr>\n",
       "    <tr>\n",
       "      <th>78</th>\n",
       "      <td>1.516458</td>\n",
       "      <td>13.40995</td>\n",
       "      <td>3.55159</td>\n",
       "      <td>1.24979</td>\n",
       "      <td>72.8116</td>\n",
       "      <td>0.68310</td>\n",
       "      <td>8.09848</td>\n",
       "      <td>0.00000</td>\n",
       "      <td>0.0000</td>\n",
       "      <td>0</td>\n",
       "    </tr>\n",
       "    <tr>\n",
       "      <th>185</th>\n",
       "      <td>1.516139</td>\n",
       "      <td>13.88210</td>\n",
       "      <td>1.77804</td>\n",
       "      <td>1.78907</td>\n",
       "      <td>73.0972</td>\n",
       "      <td>0.00000</td>\n",
       "      <td>8.66876</td>\n",
       "      <td>0.75915</td>\n",
       "      <td>0.0000</td>\n",
       "      <td>0</td>\n",
       "    </tr>\n",
       "    <tr>\n",
       "      <th>209</th>\n",
       "      <td>1.517278</td>\n",
       "      <td>14.70005</td>\n",
       "      <td>0.00000</td>\n",
       "      <td>2.34119</td>\n",
       "      <td>73.2820</td>\n",
       "      <td>0.00000</td>\n",
       "      <td>8.94852</td>\n",
       "      <td>0.66150</td>\n",
       "      <td>0.0000</td>\n",
       "      <td>0</td>\n",
       "    </tr>\n",
       "    <tr>\n",
       "      <th>32</th>\n",
       "      <td>1.515706</td>\n",
       "      <td>12.71835</td>\n",
       "      <td>3.46179</td>\n",
       "      <td>1.56116</td>\n",
       "      <td>73.1980</td>\n",
       "      <td>0.67068</td>\n",
       "      <td>8.08772</td>\n",
       "      <td>0.00000</td>\n",
       "      <td>0.1224</td>\n",
       "      <td>1</td>\n",
       "    </tr>\n",
       "  </tbody>\n",
       "</table>\n",
       "</div>"
      ],
      "text/plain": [
       "           RI        Na       Mg       Al       Si        K       Ca       Ba  \\\n",
       "63   1.517665  13.21045  3.69078  1.29152  72.6100  0.57132  8.21684  0.00000   \n",
       "47   1.526663  13.98850  3.69976  0.71051  71.5684  0.01863  9.82008  0.00000   \n",
       "45   1.517506  12.81810  3.55159  1.49054  72.7500  0.54027  8.51812  0.00000   \n",
       "30   1.521515  13.05085  3.65037  0.87101  72.3188  0.19251  9.85236  0.00000   \n",
       "102  1.518462  13.09740  3.96916  1.18880  72.4420  0.60237  8.43204  0.00000   \n",
       "206  1.516093  15.12600  0.00000  2.51132  73.0524  0.04968  8.83016  0.52920   \n",
       "78   1.516458  13.40995  3.55159  1.24979  72.8116  0.68310  8.09848  0.00000   \n",
       "185  1.516139  13.88210  1.77804  1.78907  73.0972  0.00000  8.66876  0.75915   \n",
       "209  1.517278  14.70005  0.00000  2.34119  73.2820  0.00000  8.94852  0.66150   \n",
       "32   1.515706  12.71835  3.46179  1.56116  73.1980  0.67068  8.08772  0.00000   \n",
       "\n",
       "         Fe  Class  \n",
       "63   0.0000      1  \n",
       "47   0.0510      1  \n",
       "45   0.0969      1  \n",
       "30   0.0867      1  \n",
       "102  0.0000      0  \n",
       "206  0.0000      0  \n",
       "78   0.0000      0  \n",
       "185  0.0000      0  \n",
       "209  0.0000      0  \n",
       "32   0.1224      1  "
      ]
     },
     "execution_count": 61,
     "metadata": {},
     "output_type": "execute_result"
    }
   ],
   "source": [
    "train_set.head(10)"
   ]
  },
  {
   "cell_type": "code",
   "execution_count": 62,
   "id": "c9382903",
   "metadata": {},
   "outputs": [],
   "source": [
    "majority=train_set[train_set['Class']==0]\n",
    "minority=train_set[train_set['Class']==1]"
   ]
  },
  {
   "cell_type": "code",
   "execution_count": 63,
   "id": "c253aad5",
   "metadata": {},
   "outputs": [
    {
     "data": {
      "text/plain": [
       "(111, 10)"
      ]
     },
     "execution_count": 63,
     "metadata": {},
     "output_type": "execute_result"
    }
   ],
   "source": [
    "majority.shape\n"
   ]
  },
  {
   "cell_type": "code",
   "execution_count": 64,
   "id": "c3d9a314",
   "metadata": {},
   "outputs": [
    {
     "data": {
      "text/plain": [
       "(60, 10)"
      ]
     },
     "execution_count": 64,
     "metadata": {},
     "output_type": "execute_result"
    }
   ],
   "source": [
    "minority.shape"
   ]
  },
  {
   "cell_type": "code",
   "execution_count": 65,
   "id": "94b43c52",
   "metadata": {},
   "outputs": [
    {
     "data": {
      "text/plain": [
       "(43, 9)"
      ]
     },
     "execution_count": 65,
     "metadata": {},
     "output_type": "execute_result"
    }
   ],
   "source": [
    "x_test.shape"
   ]
  },
  {
   "cell_type": "code",
   "execution_count": 66,
   "id": "fa65ce05",
   "metadata": {},
   "outputs": [],
   "source": [
    "test_set=x_test"
   ]
  },
  {
   "cell_type": "code",
   "execution_count": 67,
   "id": "ad376220",
   "metadata": {},
   "outputs": [
    {
     "name": "stderr",
     "output_type": "stream",
     "text": [
      "C:\\Users\\HP\\anaconda3\\envs\\nlp_course\\lib\\site-packages\\ipykernel_launcher.py:1: SettingWithCopyWarning: \n",
      "A value is trying to be set on a copy of a slice from a DataFrame.\n",
      "Try using .loc[row_indexer,col_indexer] = value instead\n",
      "\n",
      "See the caveats in the documentation: http://pandas.pydata.org/pandas-docs/stable/indexing.html#indexing-view-versus-copy\n",
      "  \"\"\"Entry point for launching an IPython kernel.\n"
     ]
    }
   ],
   "source": [
    "test_set['Class']=y_test"
   ]
  },
  {
   "cell_type": "code",
   "execution_count": 69,
   "id": "07eaf546",
   "metadata": {},
   "outputs": [
    {
     "data": {
      "text/html": [
       "<div>\n",
       "<style scoped>\n",
       "    .dataframe tbody tr th:only-of-type {\n",
       "        vertical-align: middle;\n",
       "    }\n",
       "\n",
       "    .dataframe tbody tr th {\n",
       "        vertical-align: top;\n",
       "    }\n",
       "\n",
       "    .dataframe thead th {\n",
       "        text-align: right;\n",
       "    }\n",
       "</style>\n",
       "<table border=\"1\" class=\"dataframe\">\n",
       "  <thead>\n",
       "    <tr style=\"text-align: right;\">\n",
       "      <th></th>\n",
       "      <th>RI</th>\n",
       "      <th>Na</th>\n",
       "      <th>Mg</th>\n",
       "      <th>Al</th>\n",
       "      <th>Si</th>\n",
       "      <th>K</th>\n",
       "      <th>Ca</th>\n",
       "      <th>Ba</th>\n",
       "      <th>Fe</th>\n",
       "      <th>Class</th>\n",
       "    </tr>\n",
       "  </thead>\n",
       "  <tbody>\n",
       "    <tr>\n",
       "      <th>90</th>\n",
       "      <td>1.516891</td>\n",
       "      <td>13.33015</td>\n",
       "      <td>3.53812</td>\n",
       "      <td>1.60931</td>\n",
       "      <td>72.5428</td>\n",
       "      <td>0.68310</td>\n",
       "      <td>8.10924</td>\n",
       "      <td>0.0</td>\n",
       "      <td>0.0</td>\n",
       "      <td>0</td>\n",
       "    </tr>\n",
       "    <tr>\n",
       "      <th>75</th>\n",
       "      <td>1.526640</td>\n",
       "      <td>11.22875</td>\n",
       "      <td>0.00000</td>\n",
       "      <td>0.77150</td>\n",
       "      <td>73.2092</td>\n",
       "      <td>0.00000</td>\n",
       "      <td>14.68360</td>\n",
       "      <td>0.0</td>\n",
       "      <td>0.0</td>\n",
       "      <td>0</td>\n",
       "    </tr>\n",
       "    <tr>\n",
       "      <th>38</th>\n",
       "      <td>1.517620</td>\n",
       "      <td>12.81145</td>\n",
       "      <td>3.53812</td>\n",
       "      <td>1.23053</td>\n",
       "      <td>73.2372</td>\n",
       "      <td>0.57753</td>\n",
       "      <td>8.38900</td>\n",
       "      <td>0.0</td>\n",
       "      <td>0.0</td>\n",
       "      <td>1</td>\n",
       "    </tr>\n",
       "    <tr>\n",
       "      <th>74</th>\n",
       "      <td>1.516891</td>\n",
       "      <td>12.67180</td>\n",
       "      <td>2.87809</td>\n",
       "      <td>1.70882</td>\n",
       "      <td>73.2092</td>\n",
       "      <td>0.73278</td>\n",
       "      <td>8.53964</td>\n",
       "      <td>0.0</td>\n",
       "      <td>0.0</td>\n",
       "      <td>0</td>\n",
       "    </tr>\n",
       "    <tr>\n",
       "      <th>12</th>\n",
       "      <td>1.517620</td>\n",
       "      <td>13.88875</td>\n",
       "      <td>3.60098</td>\n",
       "      <td>1.35893</td>\n",
       "      <td>72.7276</td>\n",
       "      <td>0.47817</td>\n",
       "      <td>7.82948</td>\n",
       "      <td>0.0</td>\n",
       "      <td>0.0</td>\n",
       "      <td>1</td>\n",
       "    </tr>\n",
       "  </tbody>\n",
       "</table>\n",
       "</div>"
      ],
      "text/plain": [
       "          RI        Na       Mg       Al       Si        K        Ca   Ba  \\\n",
       "90  1.516891  13.33015  3.53812  1.60931  72.5428  0.68310   8.10924  0.0   \n",
       "75  1.526640  11.22875  0.00000  0.77150  73.2092  0.00000  14.68360  0.0   \n",
       "38  1.517620  12.81145  3.53812  1.23053  73.2372  0.57753   8.38900  0.0   \n",
       "74  1.516891  12.67180  2.87809  1.70882  73.2092  0.73278   8.53964  0.0   \n",
       "12  1.517620  13.88875  3.60098  1.35893  72.7276  0.47817   7.82948  0.0   \n",
       "\n",
       "     Fe  Class  \n",
       "90  0.0      0  \n",
       "75  0.0      0  \n",
       "38  0.0      1  \n",
       "74  0.0      0  \n",
       "12  0.0      1  "
      ]
     },
     "execution_count": 69,
     "metadata": {},
     "output_type": "execute_result"
    }
   ],
   "source": [
    "test_set.head()"
   ]
  },
  {
   "cell_type": "code",
   "execution_count": 68,
   "id": "8194eb02",
   "metadata": {},
   "outputs": [
    {
     "data": {
      "text/plain": [
       "(171, 10)"
      ]
     },
     "execution_count": 68,
     "metadata": {},
     "output_type": "execute_result"
    }
   ],
   "source": [
    "train_set.shape"
   ]
  },
  {
   "cell_type": "code",
   "execution_count": 70,
   "id": "814c4503",
   "metadata": {},
   "outputs": [],
   "source": [
    "k= len(minority) #K for K-means clustering"
   ]
  },
  {
   "cell_type": "code",
   "execution_count": 71,
   "id": "1e8dcfd9",
   "metadata": {},
   "outputs": [
    {
     "data": {
      "text/plain": [
       "array([30, 25, 39, 35, 25, 54, 23,  5,  3, 28, 55, 30, 52, 39,  2,  5, 59,\n",
       "       56, 53,  6, 17, 33, 55, 50, 45, 24,  3, 59, 15, 48, 59, 40, 25, 20,\n",
       "        8, 52, 32, 30, 44, 49, 12, 42,  7, 27, 46, 30, 40, 55, 13, 51, 59,\n",
       "       14, 26, 49,  6, 41, 30,  9, 38, 32, 57, 42, 48, 59, 42, 18, 43,  6,\n",
       "       22, 42, 36, 21, 19, 39,  4, 37, 38, 32, 20, 30, 34, 39, 49, 58, 39,\n",
       "       38, 25, 36, 10, 36, 36, 11,  8, 59,  5, 29, 55,  8, 38,  8,  0, 11,\n",
       "       49, 36, 55, 18, 31, 39,  1, 47, 16])"
      ]
     },
     "execution_count": 71,
     "metadata": {},
     "output_type": "execute_result"
    }
   ],
   "source": [
    "km = KMeans(n_clusters=k)\n",
    "y_predicted = km.fit_predict(majority[['RI', 'Na', 'Mg', 'Al', 'Si', 'K','Ca', 'Ba', 'Fe']])\n",
    "y_predicted"
   ]
  },
  {
   "cell_type": "code",
   "execution_count": 72,
   "id": "054e2c8b",
   "metadata": {},
   "outputs": [],
   "source": [
    "cluster_centers=km.cluster_centers_"
   ]
  },
  {
   "cell_type": "code",
   "execution_count": 73,
   "id": "14aa8069",
   "metadata": {},
   "outputs": [
    {
     "data": {
      "text/plain": [
       "array([[1.51654886e+00, 1.27516000e+01, 2.85115000e+00, 1.43918000e+00,\n",
       "        7.32708000e+01, 5.71320000e-01, 8.78712000e+00, 1.10250000e-01,\n",
       "        1.12200000e-01],\n",
       "       [1.52222108e+00, 1.44274000e+01, 0.00000000e+00, 9.99410000e-01,\n",
       "        7.26716000e+01, 9.93600000e-02, 1.15201600e+01, 0.00000000e+00,\n",
       "        4.08000000e-02],\n",
       "       [1.51622994e+00, 1.42013000e+01, 0.00000000e+00, 2.79059000e+00,\n",
       "        7.34612000e+01, 3.72600000e-02, 9.04536000e+00, 4.00050000e-01,\n",
       "        4.59000000e-01],\n",
       "       [1.51317742e+00, 1.30076250e+01, 0.00000000e+00, 3.02973500e+00,\n",
       "        7.05912000e+01, 6.21000000e+00, 6.94178000e+00, 0.00000000e+00,\n",
       "        0.00000000e+00],\n",
       "       [1.52474966e+00, 1.14482000e+01, 0.00000000e+00, 1.87895000e+00,\n",
       "        7.21900000e+01, 8.07300000e-01, 1.32417600e+01, 0.00000000e+00,\n",
       "        1.73400000e-01],\n",
       "       [1.51582749e+00, 1.31971500e+01, 3.41240000e+00, 1.50766000e+00,\n",
       "        7.32017333e+01, 2.79450000e-01, 8.21325333e+00, 0.00000000e+00,\n",
       "        3.23000000e-02],\n",
       "       [1.52153009e+00, 1.41791333e+01, 3.81350667e+00, 7.72570000e-01,\n",
       "        7.15516000e+01, 1.13850000e-01, 9.42554667e+00, 0.00000000e+00,\n",
       "        6.29000000e-02],\n",
       "       [1.51837126e+00, 1.43210000e+01, 3.25974000e+00, 2.21921000e+00,\n",
       "        7.12492000e+01, 1.45935000e+00, 5.78508000e+00, 1.62855000e+00,\n",
       "        0.00000000e+00],\n",
       "       [1.51676527e+00, 1.48530000e+01, 0.00000000e+00, 1.96321250e+00,\n",
       "        7.32039000e+01, 0.00000000e+00, 8.46970000e+00, 1.56791250e+00,\n",
       "        1.02000000e-02],\n",
       "       [1.51652608e+00, 1.19469500e+01, 0.00000000e+00, 1.18880000e+00,\n",
       "        7.51804000e+01, 2.70135000e+00, 8.92700000e+00, 0.00000000e+00,\n",
       "        0.00000000e+00],\n",
       "       [1.51914578e+00, 1.27316500e+01, 1.84988000e+00, 1.85969000e+00,\n",
       "        7.26884000e+01, 6.02370000e-01, 1.00890800e+01, 0.00000000e+00,\n",
       "        0.00000000e+00],\n",
       "       [1.51757396e+00, 1.33833500e+01, 3.41015500e+00, 1.35411500e+00,\n",
       "        7.24504000e+01, 5.15430000e-01, 8.62572000e+00, 0.00000000e+00,\n",
       "        0.00000000e+00],\n",
       "       [1.51115000e+00, 1.73800000e+01, 0.00000000e+00, 3.41360000e-01,\n",
       "        7.54100000e+01, 0.00000000e+00, 6.64588000e+00, 0.00000000e+00,\n",
       "        0.00000000e+00],\n",
       "       [1.53124196e+00, 1.07300000e+01, 0.00000000e+00, 2.10044000e+00,\n",
       "        6.98100000e+01, 5.77530000e-01, 1.32955600e+01, 3.15000000e+00,\n",
       "        1.42800000e-01],\n",
       "       [1.53393000e+00, 1.22994000e+01, 0.00000000e+00, 9.99410000e-01,\n",
       "        7.01628000e+01, 1.17990000e-01, 1.61900000e+01, 0.00000000e+00,\n",
       "        1.22400000e-01],\n",
       "       [1.52725546e+00, 1.38023000e+01, 3.15198000e+00, 6.59150000e-01,\n",
       "        7.05716000e+01, 8.07300000e-02, 1.16385200e+01, 0.00000000e+00,\n",
       "        0.00000000e+00],\n",
       "       [1.52247166e+00, 1.48596500e+01, 2.20010000e+00, 2.05871000e+00,\n",
       "        7.02580000e+01, 7.57620000e-01, 9.75552000e+00, 0.00000000e+00,\n",
       "        0.00000000e+00],\n",
       "       [1.51666276e+00, 1.28580000e+01, 0.00000000e+00, 1.83080000e+00,\n",
       "        7.38812000e+01, 9.68760000e-01, 1.01751600e+01, 0.00000000e+00,\n",
       "        0.00000000e+00],\n",
       "       [1.51879269e+00, 1.40450250e+01, 2.28990000e+00, 1.61091500e+00,\n",
       "        7.25204000e+01, 0.00000000e+00, 9.44886000e+00, 0.00000000e+00,\n",
       "        0.00000000e+00],\n",
       "       [1.51830292e+00, 1.43875000e+01, 0.00000000e+00, 1.82117000e+00,\n",
       "        7.28620000e+01, 1.40967000e+00, 6.47372000e+00, 2.87910000e+00,\n",
       "        0.00000000e+00],\n",
       "       [1.52205023e+00, 1.34099500e+01, 0.00000000e+00, 1.49054000e+00,\n",
       "        7.22348000e+01, 3.26025000e-01, 1.23702000e+01, 0.00000000e+00,\n",
       "        0.00000000e+00],\n",
       "       [1.52151490e+00, 1.10292500e+01, 1.71069000e+00, 1.56116000e+00,\n",
       "        7.34388000e+01, 5.77530000e-01, 1.16170000e+01, 0.00000000e+00,\n",
       "        0.00000000e+00],\n",
       "       [1.51513650e+00, 1.40084500e+01, 2.68053000e+00, 3.50000000e+00,\n",
       "        6.98884000e+01, 1.68291000e+00, 5.87116000e+00, 2.19870000e+00,\n",
       "        0.00000000e+00],\n",
       "       [1.51299518e+00, 1.44008000e+01, 1.74212000e+00, 1.53869000e+00,\n",
       "        7.45476000e+01, 0.00000000e+00, 7.59276000e+00, 0.00000000e+00,\n",
       "        0.00000000e+00],\n",
       "       [1.52019366e+00, 1.39818500e+01, 1.35149000e+00, 1.62857000e+00,\n",
       "        7.17588000e+01, 3.91230000e-01, 1.05625200e+01, 0.00000000e+00,\n",
       "        5.10000000e-01],\n",
       "       [1.51638940e+00, 1.49079500e+01, 0.00000000e+00, 2.37569750e+00,\n",
       "        7.32288000e+01, 1.24200000e-02, 8.81133000e+00, 6.25275000e-01,\n",
       "        1.14750000e-01],\n",
       "       [1.52739214e+00, 1.10226000e+01, 0.00000000e+00, 7.49030000e-01,\n",
       "        7.30804000e+01, 0.00000000e+00, 1.49633600e+01, 0.00000000e+00,\n",
       "        0.00000000e+00],\n",
       "       [1.51572878e+00, 1.48596500e+01, 3.66833000e+00, 1.74092000e+00,\n",
       "        7.18708000e+01, 1.61460000e-01, 7.35604000e+00, 0.00000000e+00,\n",
       "        6.12000000e-02],\n",
       "       [1.51969250e+00, 1.26385500e+01, 0.00000000e+00, 1.65104000e+00,\n",
       "        7.37524000e+01, 3.78810000e-01, 1.15309200e+01, 0.00000000e+00,\n",
       "        0.00000000e+00],\n",
       "       [1.52365622e+00, 1.57906500e+01, 1.83192000e+00, 1.31078000e+00,\n",
       "        7.04316000e+01, 3.10500000e-01, 8.61496000e+00, 1.67895000e+00,\n",
       "        0.00000000e+00],\n",
       "       [1.51840923e+00, 1.32747333e+01, 3.87487000e+00, 1.30168500e+00,\n",
       "        7.24056000e+01, 5.60970000e-01, 8.34954667e+00, 0.00000000e+00,\n",
       "        4.42000000e-02],\n",
       "       [1.51818902e+00, 1.37225000e+01, 0.00000000e+00, 5.59640000e-01,\n",
       "        7.44524000e+01, 0.00000000e+00, 1.09929200e+01, 0.00000000e+00,\n",
       "        0.00000000e+00],\n",
       "       [1.51827255e+00, 1.36449167e+01, 3.61594667e+00, 8.35700000e-01,\n",
       "        7.28078667e+01, 1.11780000e-01, 8.80864000e+00, 5.04000000e-02,\n",
       "        4.08000000e-02],\n",
       "       [1.52613924e+00, 1.37025500e+01, 0.00000000e+00, 1.35893000e+00,\n",
       "        7.12380000e+01, 1.92510000e-01, 1.34354400e+01, 0.00000000e+00,\n",
       "        5.10000000e-02],\n",
       "       [1.51818902e+00, 1.26186000e+01, 2.76135000e+00, 8.29280000e-01,\n",
       "        7.38084000e+01, 3.47760000e-01, 9.42196000e+00, 0.00000000e+00,\n",
       "        1.02000000e-01],\n",
       "       [1.51613882e+00, 1.38821000e+01, 1.77804000e+00, 1.78907000e+00,\n",
       "        7.30972000e+01, 0.00000000e+00, 8.66876000e+00, 7.59150000e-01,\n",
       "        0.00000000e+00],\n",
       "       [1.51653519e+00, 1.29018900e+01, 3.56326400e+00, 1.65425000e+00,\n",
       "        7.29493600e+01, 6.39630000e-01, 8.02961600e+00, 0.00000000e+00,\n",
       "        2.14200000e-02],\n",
       "       [1.51916856e+00, 1.41481000e+01, 0.00000000e+00, 2.09081000e+00,\n",
       "        7.27388000e+01, 0.00000000e+00, 1.08853200e+01, 0.00000000e+00,\n",
       "        0.00000000e+00],\n",
       "       [1.51767647e+00, 1.28945750e+01, 3.62904250e+00, 1.34288000e+00,\n",
       "        7.26100000e+01, 5.91502500e-01, 8.65531000e+00, 0.00000000e+00,\n",
       "        5.99250000e-02],\n",
       "       [1.51641218e+00, 1.33312583e+01, 3.52764333e+00, 1.36053500e+00,\n",
       "        7.27388000e+01, 5.66145000e-01, 8.25091333e+00, 0.00000000e+00,\n",
       "        8.50000000e-03],\n",
       "       [1.51824597e+00, 1.36759500e+01, 3.89956500e+00, 1.40387000e+00,\n",
       "        7.18848000e+01, 5.40270000e-01, 8.26526000e+00, 0.00000000e+00,\n",
       "        1.19850000e-01],\n",
       "       [1.52408904e+00, 1.38289000e+01, 2.90054000e+00, 1.16954000e+00,\n",
       "        7.11484000e+01, 8.07300000e-02, 1.07884800e+01, 0.00000000e+00,\n",
       "        0.00000000e+00],\n",
       "       [1.51777329e+00, 1.43825125e+01, 0.00000000e+00, 2.00494250e+00,\n",
       "        7.34206000e+01, 0.00000000e+00, 8.51274000e+00, 1.61201250e+00,\n",
       "        8.92500000e-03],\n",
       "       [1.51969250e+00, 1.45604000e+01, 0.00000000e+00, 5.59640000e-01,\n",
       "        7.34780000e+01, 0.00000000e+00, 1.12188800e+01, 0.00000000e+00,\n",
       "        0.00000000e+00],\n",
       "       [1.52080872e+00, 1.37823500e+01, 2.28092000e+00, 1.42955000e+00,\n",
       "        7.19884000e+01, 4.90590000e-01, 9.85236000e+00, 0.00000000e+00,\n",
       "        8.67000000e-02],\n",
       "       [1.52176548e+00, 1.37491000e+01, 1.01025000e+00, 1.35893000e+00,\n",
       "        7.21900000e+01, 3.29130000e-01, 1.11435600e+01, 0.00000000e+00,\n",
       "        0.00000000e+00],\n",
       "       [1.51509094e+00, 1.51522500e+01, 0.00000000e+00, 2.25131000e+00,\n",
       "        7.35004000e+01, 0.00000000e+00, 8.33520000e+00, 6.30000000e-01,\n",
       "        0.00000000e+00],\n",
       "       [1.52058092e+00, 1.28513500e+01, 1.61191000e+00, 2.17106000e+00,\n",
       "        7.21788000e+01, 7.57620000e-01, 9.70172000e+00, 2.39400000e-01,\n",
       "        2.60100000e-01],\n",
       "       [1.51585407e+00, 1.43742000e+01, 0.00000000e+00, 2.69910500e+00,\n",
       "        7.29740000e+01, 1.86300000e-02, 9.26594000e+00, 5.89050000e-01,\n",
       "        0.00000000e+00],\n",
       "       [1.51869587e+00, 1.31073750e+01, 3.62679750e+00, 1.13984750e+00,\n",
       "        7.29138000e+01, 5.48032500e-01, 8.47239000e+00, 2.28375000e-02,\n",
       "        3.69750000e-02],\n",
       "       [1.51743728e+00, 1.21996500e+01, 3.25076000e+00, 1.15991000e+00,\n",
       "        7.35508000e+01, 6.21000000e-01, 8.89472000e+00, 0.00000000e+00,\n",
       "        1.22400000e-01],\n",
       "       [1.51730060e+00, 1.23526000e+01, 2.72094000e+00, 1.62857000e+00,\n",
       "        7.28676000e+01, 7.01730000e-01, 9.22828000e+00, 0.00000000e+00,\n",
       "        0.00000000e+00],\n",
       "       [1.51841682e+00, 1.29743750e+01, 3.67955500e+00, 1.08447500e+00,\n",
       "        7.23104000e+01, 6.39630000e-01, 9.04536000e+00, 0.00000000e+00,\n",
       "        9.43500000e-02],\n",
       "       [1.51661720e+00, 1.28513500e+01, 3.51118000e+00, 1.43918000e+00,\n",
       "        7.30076000e+01, 6.83100000e-01, 8.22760000e+00, 5.98500000e-01,\n",
       "        1.27500000e-01],\n",
       "       [1.51707280e+00, 1.37225000e+01, 3.68180000e+00, 1.81154000e+00,\n",
       "        7.20612000e+01, 6.39630000e-01, 7.88328000e+00, 0.00000000e+00,\n",
       "        0.00000000e+00],\n",
       "       [1.51609326e+00, 1.30335600e+01, 3.53991600e+00, 1.50723200e+00,\n",
       "        7.31711200e+01, 6.69438000e-01, 7.89188800e+00, 0.00000000e+00,\n",
       "        0.00000000e+00],\n",
       "       [1.52067204e+00, 1.35496000e+01, 2.08785000e+00, 1.67030000e+00,\n",
       "        7.21788000e+01, 5.27850000e-01, 9.57260000e+00, 2.70900000e-01,\n",
       "        8.67000000e-02],\n",
       "       [1.51604770e+00, 1.28979000e+01, 3.43934000e+00, 1.44881000e+00,\n",
       "        7.35800000e+01, 4.40910000e-01, 8.27064000e+00, 0.00000000e+00,\n",
       "        0.00000000e+00],\n",
       "       [1.51638940e+00, 1.25521000e+01, 3.47975000e+00, 1.86932000e+00,\n",
       "        7.32316000e+01, 6.27210000e-01, 8.07696000e+00, 0.00000000e+00,\n",
       "        4.59000000e-01],\n",
       "       [1.51661340e+00, 1.33501000e+01, 3.53961667e+00, 1.60449500e+00,\n",
       "        7.25736000e+01, 6.35490000e-01, 8.06799333e+00, 0.00000000e+00,\n",
       "        4.76000000e-02]])"
      ]
     },
     "execution_count": 73,
     "metadata": {},
     "output_type": "execute_result"
    }
   ],
   "source": [
    "cluster_centers"
   ]
  },
  {
   "cell_type": "code",
   "execution_count": 74,
   "id": "6b622bc2",
   "metadata": {},
   "outputs": [
    {
     "data": {
      "text/html": [
       "<div>\n",
       "<style scoped>\n",
       "    .dataframe tbody tr th:only-of-type {\n",
       "        vertical-align: middle;\n",
       "    }\n",
       "\n",
       "    .dataframe tbody tr th {\n",
       "        vertical-align: top;\n",
       "    }\n",
       "\n",
       "    .dataframe thead th {\n",
       "        text-align: right;\n",
       "    }\n",
       "</style>\n",
       "<table border=\"1\" class=\"dataframe\">\n",
       "  <thead>\n",
       "    <tr style=\"text-align: right;\">\n",
       "      <th></th>\n",
       "      <th>RI</th>\n",
       "      <th>Na</th>\n",
       "      <th>Mg</th>\n",
       "      <th>Al</th>\n",
       "      <th>Si</th>\n",
       "      <th>K</th>\n",
       "      <th>Ca</th>\n",
       "      <th>Ba</th>\n",
       "      <th>Fe</th>\n",
       "      <th>Class</th>\n",
       "    </tr>\n",
       "  </thead>\n",
       "  <tbody>\n",
       "    <tr>\n",
       "      <th>102</th>\n",
       "      <td>1.518462</td>\n",
       "      <td>13.09740</td>\n",
       "      <td>3.96916</td>\n",
       "      <td>1.18880</td>\n",
       "      <td>72.4420</td>\n",
       "      <td>0.60237</td>\n",
       "      <td>8.43204</td>\n",
       "      <td>0.00000</td>\n",
       "      <td>0.0</td>\n",
       "      <td>0</td>\n",
       "    </tr>\n",
       "    <tr>\n",
       "      <th>206</th>\n",
       "      <td>1.516093</td>\n",
       "      <td>15.12600</td>\n",
       "      <td>0.00000</td>\n",
       "      <td>2.51132</td>\n",
       "      <td>73.0524</td>\n",
       "      <td>0.04968</td>\n",
       "      <td>8.83016</td>\n",
       "      <td>0.52920</td>\n",
       "      <td>0.0</td>\n",
       "      <td>0</td>\n",
       "    </tr>\n",
       "    <tr>\n",
       "      <th>78</th>\n",
       "      <td>1.516458</td>\n",
       "      <td>13.40995</td>\n",
       "      <td>3.55159</td>\n",
       "      <td>1.24979</td>\n",
       "      <td>72.8116</td>\n",
       "      <td>0.68310</td>\n",
       "      <td>8.09848</td>\n",
       "      <td>0.00000</td>\n",
       "      <td>0.0</td>\n",
       "      <td>0</td>\n",
       "    </tr>\n",
       "    <tr>\n",
       "      <th>185</th>\n",
       "      <td>1.516139</td>\n",
       "      <td>13.88210</td>\n",
       "      <td>1.77804</td>\n",
       "      <td>1.78907</td>\n",
       "      <td>73.0972</td>\n",
       "      <td>0.00000</td>\n",
       "      <td>8.66876</td>\n",
       "      <td>0.75915</td>\n",
       "      <td>0.0</td>\n",
       "      <td>0</td>\n",
       "    </tr>\n",
       "    <tr>\n",
       "      <th>209</th>\n",
       "      <td>1.517278</td>\n",
       "      <td>14.70005</td>\n",
       "      <td>0.00000</td>\n",
       "      <td>2.34119</td>\n",
       "      <td>73.2820</td>\n",
       "      <td>0.00000</td>\n",
       "      <td>8.94852</td>\n",
       "      <td>0.66150</td>\n",
       "      <td>0.0</td>\n",
       "      <td>0</td>\n",
       "    </tr>\n",
       "  </tbody>\n",
       "</table>\n",
       "</div>"
      ],
      "text/plain": [
       "           RI        Na       Mg       Al       Si        K       Ca       Ba  \\\n",
       "102  1.518462  13.09740  3.96916  1.18880  72.4420  0.60237  8.43204  0.00000   \n",
       "206  1.516093  15.12600  0.00000  2.51132  73.0524  0.04968  8.83016  0.52920   \n",
       "78   1.516458  13.40995  3.55159  1.24979  72.8116  0.68310  8.09848  0.00000   \n",
       "185  1.516139  13.88210  1.77804  1.78907  73.0972  0.00000  8.66876  0.75915   \n",
       "209  1.517278  14.70005  0.00000  2.34119  73.2820  0.00000  8.94852  0.66150   \n",
       "\n",
       "      Fe  Class  \n",
       "102  0.0      0  \n",
       "206  0.0      0  \n",
       "78   0.0      0  \n",
       "185  0.0      0  \n",
       "209  0.0      0  "
      ]
     },
     "execution_count": 74,
     "metadata": {},
     "output_type": "execute_result"
    }
   ],
   "source": [
    "majority.head()\n"
   ]
  },
  {
   "cell_type": "code",
   "execution_count": 77,
   "id": "22b33cac",
   "metadata": {},
   "outputs": [],
   "source": [
    "balanced_majority = pd.DataFrame(cluster_centers)"
   ]
  },
  {
   "cell_type": "code",
   "execution_count": 78,
   "id": "3b03e809",
   "metadata": {},
   "outputs": [
    {
     "data": {
      "text/html": [
       "<div>\n",
       "<style scoped>\n",
       "    .dataframe tbody tr th:only-of-type {\n",
       "        vertical-align: middle;\n",
       "    }\n",
       "\n",
       "    .dataframe tbody tr th {\n",
       "        vertical-align: top;\n",
       "    }\n",
       "\n",
       "    .dataframe thead th {\n",
       "        text-align: right;\n",
       "    }\n",
       "</style>\n",
       "<table border=\"1\" class=\"dataframe\">\n",
       "  <thead>\n",
       "    <tr style=\"text-align: right;\">\n",
       "      <th></th>\n",
       "      <th>0</th>\n",
       "      <th>1</th>\n",
       "      <th>2</th>\n",
       "      <th>3</th>\n",
       "      <th>4</th>\n",
       "      <th>5</th>\n",
       "      <th>6</th>\n",
       "      <th>7</th>\n",
       "      <th>8</th>\n",
       "    </tr>\n",
       "  </thead>\n",
       "  <tbody>\n",
       "    <tr>\n",
       "      <th>0</th>\n",
       "      <td>1.516549</td>\n",
       "      <td>12.751600</td>\n",
       "      <td>2.85115</td>\n",
       "      <td>1.439180</td>\n",
       "      <td>73.2708</td>\n",
       "      <td>0.57132</td>\n",
       "      <td>8.78712</td>\n",
       "      <td>0.11025</td>\n",
       "      <td>0.1122</td>\n",
       "    </tr>\n",
       "    <tr>\n",
       "      <th>1</th>\n",
       "      <td>1.522221</td>\n",
       "      <td>14.427400</td>\n",
       "      <td>0.00000</td>\n",
       "      <td>0.999410</td>\n",
       "      <td>72.6716</td>\n",
       "      <td>0.09936</td>\n",
       "      <td>11.52016</td>\n",
       "      <td>0.00000</td>\n",
       "      <td>0.0408</td>\n",
       "    </tr>\n",
       "    <tr>\n",
       "      <th>2</th>\n",
       "      <td>1.516230</td>\n",
       "      <td>14.201300</td>\n",
       "      <td>0.00000</td>\n",
       "      <td>2.790590</td>\n",
       "      <td>73.4612</td>\n",
       "      <td>0.03726</td>\n",
       "      <td>9.04536</td>\n",
       "      <td>0.40005</td>\n",
       "      <td>0.4590</td>\n",
       "    </tr>\n",
       "    <tr>\n",
       "      <th>3</th>\n",
       "      <td>1.513177</td>\n",
       "      <td>13.007625</td>\n",
       "      <td>0.00000</td>\n",
       "      <td>3.029735</td>\n",
       "      <td>70.5912</td>\n",
       "      <td>6.21000</td>\n",
       "      <td>6.94178</td>\n",
       "      <td>0.00000</td>\n",
       "      <td>0.0000</td>\n",
       "    </tr>\n",
       "    <tr>\n",
       "      <th>4</th>\n",
       "      <td>1.524750</td>\n",
       "      <td>11.448200</td>\n",
       "      <td>0.00000</td>\n",
       "      <td>1.878950</td>\n",
       "      <td>72.1900</td>\n",
       "      <td>0.80730</td>\n",
       "      <td>13.24176</td>\n",
       "      <td>0.00000</td>\n",
       "      <td>0.1734</td>\n",
       "    </tr>\n",
       "  </tbody>\n",
       "</table>\n",
       "</div>"
      ],
      "text/plain": [
       "          0          1        2         3        4        5         6  \\\n",
       "0  1.516549  12.751600  2.85115  1.439180  73.2708  0.57132   8.78712   \n",
       "1  1.522221  14.427400  0.00000  0.999410  72.6716  0.09936  11.52016   \n",
       "2  1.516230  14.201300  0.00000  2.790590  73.4612  0.03726   9.04536   \n",
       "3  1.513177  13.007625  0.00000  3.029735  70.5912  6.21000   6.94178   \n",
       "4  1.524750  11.448200  0.00000  1.878950  72.1900  0.80730  13.24176   \n",
       "\n",
       "         7       8  \n",
       "0  0.11025  0.1122  \n",
       "1  0.00000  0.0408  \n",
       "2  0.40005  0.4590  \n",
       "3  0.00000  0.0000  \n",
       "4  0.00000  0.1734  "
      ]
     },
     "execution_count": 78,
     "metadata": {},
     "output_type": "execute_result"
    }
   ],
   "source": [
    "balanced_majority.head()"
   ]
  },
  {
   "cell_type": "code",
   "execution_count": 80,
   "id": "a21673db",
   "metadata": {},
   "outputs": [],
   "source": [
    "balanced_majority.columns=['RI', 'Na', 'Mg', 'Al', 'Si', 'K','Ca', 'Ba', 'Fe']"
   ]
  },
  {
   "cell_type": "code",
   "execution_count": 81,
   "id": "e78d7dc5",
   "metadata": {},
   "outputs": [
    {
     "data": {
      "text/html": [
       "<div>\n",
       "<style scoped>\n",
       "    .dataframe tbody tr th:only-of-type {\n",
       "        vertical-align: middle;\n",
       "    }\n",
       "\n",
       "    .dataframe tbody tr th {\n",
       "        vertical-align: top;\n",
       "    }\n",
       "\n",
       "    .dataframe thead th {\n",
       "        text-align: right;\n",
       "    }\n",
       "</style>\n",
       "<table border=\"1\" class=\"dataframe\">\n",
       "  <thead>\n",
       "    <tr style=\"text-align: right;\">\n",
       "      <th></th>\n",
       "      <th>RI</th>\n",
       "      <th>Na</th>\n",
       "      <th>Mg</th>\n",
       "      <th>Al</th>\n",
       "      <th>Si</th>\n",
       "      <th>K</th>\n",
       "      <th>Ca</th>\n",
       "      <th>Ba</th>\n",
       "      <th>Fe</th>\n",
       "    </tr>\n",
       "  </thead>\n",
       "  <tbody>\n",
       "    <tr>\n",
       "      <th>0</th>\n",
       "      <td>1.516549</td>\n",
       "      <td>12.751600</td>\n",
       "      <td>2.85115</td>\n",
       "      <td>1.439180</td>\n",
       "      <td>73.2708</td>\n",
       "      <td>0.57132</td>\n",
       "      <td>8.78712</td>\n",
       "      <td>0.11025</td>\n",
       "      <td>0.1122</td>\n",
       "    </tr>\n",
       "    <tr>\n",
       "      <th>1</th>\n",
       "      <td>1.522221</td>\n",
       "      <td>14.427400</td>\n",
       "      <td>0.00000</td>\n",
       "      <td>0.999410</td>\n",
       "      <td>72.6716</td>\n",
       "      <td>0.09936</td>\n",
       "      <td>11.52016</td>\n",
       "      <td>0.00000</td>\n",
       "      <td>0.0408</td>\n",
       "    </tr>\n",
       "    <tr>\n",
       "      <th>2</th>\n",
       "      <td>1.516230</td>\n",
       "      <td>14.201300</td>\n",
       "      <td>0.00000</td>\n",
       "      <td>2.790590</td>\n",
       "      <td>73.4612</td>\n",
       "      <td>0.03726</td>\n",
       "      <td>9.04536</td>\n",
       "      <td>0.40005</td>\n",
       "      <td>0.4590</td>\n",
       "    </tr>\n",
       "    <tr>\n",
       "      <th>3</th>\n",
       "      <td>1.513177</td>\n",
       "      <td>13.007625</td>\n",
       "      <td>0.00000</td>\n",
       "      <td>3.029735</td>\n",
       "      <td>70.5912</td>\n",
       "      <td>6.21000</td>\n",
       "      <td>6.94178</td>\n",
       "      <td>0.00000</td>\n",
       "      <td>0.0000</td>\n",
       "    </tr>\n",
       "    <tr>\n",
       "      <th>4</th>\n",
       "      <td>1.524750</td>\n",
       "      <td>11.448200</td>\n",
       "      <td>0.00000</td>\n",
       "      <td>1.878950</td>\n",
       "      <td>72.1900</td>\n",
       "      <td>0.80730</td>\n",
       "      <td>13.24176</td>\n",
       "      <td>0.00000</td>\n",
       "      <td>0.1734</td>\n",
       "    </tr>\n",
       "  </tbody>\n",
       "</table>\n",
       "</div>"
      ],
      "text/plain": [
       "         RI         Na       Mg        Al       Si        K        Ca  \\\n",
       "0  1.516549  12.751600  2.85115  1.439180  73.2708  0.57132   8.78712   \n",
       "1  1.522221  14.427400  0.00000  0.999410  72.6716  0.09936  11.52016   \n",
       "2  1.516230  14.201300  0.00000  2.790590  73.4612  0.03726   9.04536   \n",
       "3  1.513177  13.007625  0.00000  3.029735  70.5912  6.21000   6.94178   \n",
       "4  1.524750  11.448200  0.00000  1.878950  72.1900  0.80730  13.24176   \n",
       "\n",
       "        Ba      Fe  \n",
       "0  0.11025  0.1122  \n",
       "1  0.00000  0.0408  \n",
       "2  0.40005  0.4590  \n",
       "3  0.00000  0.0000  \n",
       "4  0.00000  0.1734  "
      ]
     },
     "execution_count": 81,
     "metadata": {},
     "output_type": "execute_result"
    }
   ],
   "source": [
    "balanced_majority.head()"
   ]
  },
  {
   "cell_type": "code",
   "execution_count": 82,
   "id": "8d1cd367",
   "metadata": {},
   "outputs": [],
   "source": [
    "balanced_majority['Class']=0"
   ]
  },
  {
   "cell_type": "code",
   "execution_count": 83,
   "id": "db7e121e",
   "metadata": {},
   "outputs": [
    {
     "data": {
      "text/html": [
       "<div>\n",
       "<style scoped>\n",
       "    .dataframe tbody tr th:only-of-type {\n",
       "        vertical-align: middle;\n",
       "    }\n",
       "\n",
       "    .dataframe tbody tr th {\n",
       "        vertical-align: top;\n",
       "    }\n",
       "\n",
       "    .dataframe thead th {\n",
       "        text-align: right;\n",
       "    }\n",
       "</style>\n",
       "<table border=\"1\" class=\"dataframe\">\n",
       "  <thead>\n",
       "    <tr style=\"text-align: right;\">\n",
       "      <th></th>\n",
       "      <th>RI</th>\n",
       "      <th>Na</th>\n",
       "      <th>Mg</th>\n",
       "      <th>Al</th>\n",
       "      <th>Si</th>\n",
       "      <th>K</th>\n",
       "      <th>Ca</th>\n",
       "      <th>Ba</th>\n",
       "      <th>Fe</th>\n",
       "      <th>Class</th>\n",
       "    </tr>\n",
       "  </thead>\n",
       "  <tbody>\n",
       "    <tr>\n",
       "      <th>0</th>\n",
       "      <td>1.516549</td>\n",
       "      <td>12.751600</td>\n",
       "      <td>2.85115</td>\n",
       "      <td>1.439180</td>\n",
       "      <td>73.2708</td>\n",
       "      <td>0.57132</td>\n",
       "      <td>8.78712</td>\n",
       "      <td>0.11025</td>\n",
       "      <td>0.1122</td>\n",
       "      <td>0</td>\n",
       "    </tr>\n",
       "    <tr>\n",
       "      <th>1</th>\n",
       "      <td>1.522221</td>\n",
       "      <td>14.427400</td>\n",
       "      <td>0.00000</td>\n",
       "      <td>0.999410</td>\n",
       "      <td>72.6716</td>\n",
       "      <td>0.09936</td>\n",
       "      <td>11.52016</td>\n",
       "      <td>0.00000</td>\n",
       "      <td>0.0408</td>\n",
       "      <td>0</td>\n",
       "    </tr>\n",
       "    <tr>\n",
       "      <th>2</th>\n",
       "      <td>1.516230</td>\n",
       "      <td>14.201300</td>\n",
       "      <td>0.00000</td>\n",
       "      <td>2.790590</td>\n",
       "      <td>73.4612</td>\n",
       "      <td>0.03726</td>\n",
       "      <td>9.04536</td>\n",
       "      <td>0.40005</td>\n",
       "      <td>0.4590</td>\n",
       "      <td>0</td>\n",
       "    </tr>\n",
       "    <tr>\n",
       "      <th>3</th>\n",
       "      <td>1.513177</td>\n",
       "      <td>13.007625</td>\n",
       "      <td>0.00000</td>\n",
       "      <td>3.029735</td>\n",
       "      <td>70.5912</td>\n",
       "      <td>6.21000</td>\n",
       "      <td>6.94178</td>\n",
       "      <td>0.00000</td>\n",
       "      <td>0.0000</td>\n",
       "      <td>0</td>\n",
       "    </tr>\n",
       "    <tr>\n",
       "      <th>4</th>\n",
       "      <td>1.524750</td>\n",
       "      <td>11.448200</td>\n",
       "      <td>0.00000</td>\n",
       "      <td>1.878950</td>\n",
       "      <td>72.1900</td>\n",
       "      <td>0.80730</td>\n",
       "      <td>13.24176</td>\n",
       "      <td>0.00000</td>\n",
       "      <td>0.1734</td>\n",
       "      <td>0</td>\n",
       "    </tr>\n",
       "  </tbody>\n",
       "</table>\n",
       "</div>"
      ],
      "text/plain": [
       "         RI         Na       Mg        Al       Si        K        Ca  \\\n",
       "0  1.516549  12.751600  2.85115  1.439180  73.2708  0.57132   8.78712   \n",
       "1  1.522221  14.427400  0.00000  0.999410  72.6716  0.09936  11.52016   \n",
       "2  1.516230  14.201300  0.00000  2.790590  73.4612  0.03726   9.04536   \n",
       "3  1.513177  13.007625  0.00000  3.029735  70.5912  6.21000   6.94178   \n",
       "4  1.524750  11.448200  0.00000  1.878950  72.1900  0.80730  13.24176   \n",
       "\n",
       "        Ba      Fe  Class  \n",
       "0  0.11025  0.1122      0  \n",
       "1  0.00000  0.0408      0  \n",
       "2  0.40005  0.4590      0  \n",
       "3  0.00000  0.0000      0  \n",
       "4  0.00000  0.1734      0  "
      ]
     },
     "execution_count": 83,
     "metadata": {},
     "output_type": "execute_result"
    }
   ],
   "source": [
    "balanced_majority.head()"
   ]
  },
  {
   "cell_type": "code",
   "execution_count": 84,
   "id": "148efd0a",
   "metadata": {},
   "outputs": [
    {
     "data": {
      "text/html": [
       "<div>\n",
       "<style scoped>\n",
       "    .dataframe tbody tr th:only-of-type {\n",
       "        vertical-align: middle;\n",
       "    }\n",
       "\n",
       "    .dataframe tbody tr th {\n",
       "        vertical-align: top;\n",
       "    }\n",
       "\n",
       "    .dataframe thead th {\n",
       "        text-align: right;\n",
       "    }\n",
       "</style>\n",
       "<table border=\"1\" class=\"dataframe\">\n",
       "  <thead>\n",
       "    <tr style=\"text-align: right;\">\n",
       "      <th></th>\n",
       "      <th>RI</th>\n",
       "      <th>Na</th>\n",
       "      <th>Mg</th>\n",
       "      <th>Al</th>\n",
       "      <th>Si</th>\n",
       "      <th>K</th>\n",
       "      <th>Ca</th>\n",
       "      <th>Ba</th>\n",
       "      <th>Fe</th>\n",
       "      <th>Class</th>\n",
       "    </tr>\n",
       "  </thead>\n",
       "  <tbody>\n",
       "    <tr>\n",
       "      <th>63</th>\n",
       "      <td>1.517665</td>\n",
       "      <td>13.21045</td>\n",
       "      <td>3.69078</td>\n",
       "      <td>1.29152</td>\n",
       "      <td>72.6100</td>\n",
       "      <td>0.57132</td>\n",
       "      <td>8.21684</td>\n",
       "      <td>0.0</td>\n",
       "      <td>0.0000</td>\n",
       "      <td>1</td>\n",
       "    </tr>\n",
       "    <tr>\n",
       "      <th>47</th>\n",
       "      <td>1.526663</td>\n",
       "      <td>13.98850</td>\n",
       "      <td>3.69976</td>\n",
       "      <td>0.71051</td>\n",
       "      <td>71.5684</td>\n",
       "      <td>0.01863</td>\n",
       "      <td>9.82008</td>\n",
       "      <td>0.0</td>\n",
       "      <td>0.0510</td>\n",
       "      <td>1</td>\n",
       "    </tr>\n",
       "    <tr>\n",
       "      <th>45</th>\n",
       "      <td>1.517506</td>\n",
       "      <td>12.81810</td>\n",
       "      <td>3.55159</td>\n",
       "      <td>1.49054</td>\n",
       "      <td>72.7500</td>\n",
       "      <td>0.54027</td>\n",
       "      <td>8.51812</td>\n",
       "      <td>0.0</td>\n",
       "      <td>0.0969</td>\n",
       "      <td>1</td>\n",
       "    </tr>\n",
       "    <tr>\n",
       "      <th>30</th>\n",
       "      <td>1.521515</td>\n",
       "      <td>13.05085</td>\n",
       "      <td>3.65037</td>\n",
       "      <td>0.87101</td>\n",
       "      <td>72.3188</td>\n",
       "      <td>0.19251</td>\n",
       "      <td>9.85236</td>\n",
       "      <td>0.0</td>\n",
       "      <td>0.0867</td>\n",
       "      <td>1</td>\n",
       "    </tr>\n",
       "    <tr>\n",
       "      <th>32</th>\n",
       "      <td>1.515706</td>\n",
       "      <td>12.71835</td>\n",
       "      <td>3.46179</td>\n",
       "      <td>1.56116</td>\n",
       "      <td>73.1980</td>\n",
       "      <td>0.67068</td>\n",
       "      <td>8.08772</td>\n",
       "      <td>0.0</td>\n",
       "      <td>0.1224</td>\n",
       "      <td>1</td>\n",
       "    </tr>\n",
       "  </tbody>\n",
       "</table>\n",
       "</div>"
      ],
      "text/plain": [
       "          RI        Na       Mg       Al       Si        K       Ca   Ba  \\\n",
       "63  1.517665  13.21045  3.69078  1.29152  72.6100  0.57132  8.21684  0.0   \n",
       "47  1.526663  13.98850  3.69976  0.71051  71.5684  0.01863  9.82008  0.0   \n",
       "45  1.517506  12.81810  3.55159  1.49054  72.7500  0.54027  8.51812  0.0   \n",
       "30  1.521515  13.05085  3.65037  0.87101  72.3188  0.19251  9.85236  0.0   \n",
       "32  1.515706  12.71835  3.46179  1.56116  73.1980  0.67068  8.08772  0.0   \n",
       "\n",
       "        Fe  Class  \n",
       "63  0.0000      1  \n",
       "47  0.0510      1  \n",
       "45  0.0969      1  \n",
       "30  0.0867      1  \n",
       "32  0.1224      1  "
      ]
     },
     "execution_count": 84,
     "metadata": {},
     "output_type": "execute_result"
    }
   ],
   "source": [
    "minority.head()"
   ]
  },
  {
   "cell_type": "code",
   "execution_count": 85,
   "id": "47eb9f04",
   "metadata": {},
   "outputs": [
    {
     "data": {
      "text/plain": [
       "(60, 10)"
      ]
     },
     "execution_count": 85,
     "metadata": {},
     "output_type": "execute_result"
    }
   ],
   "source": [
    "minority.shape"
   ]
  },
  {
   "cell_type": "code",
   "execution_count": 86,
   "id": "4fb1f418",
   "metadata": {},
   "outputs": [
    {
     "data": {
      "text/plain": [
       "(60, 10)"
      ]
     },
     "execution_count": 86,
     "metadata": {},
     "output_type": "execute_result"
    }
   ],
   "source": [
    "balanced_majority.shape"
   ]
  },
  {
   "cell_type": "code",
   "execution_count": 93,
   "id": "f255c76f",
   "metadata": {},
   "outputs": [],
   "source": [
    "balanced_train_set=pd.concat([minority, balanced_majority],ignore_index=True)"
   ]
  },
  {
   "cell_type": "code",
   "execution_count": 94,
   "id": "f7421dab",
   "metadata": {},
   "outputs": [
    {
     "data": {
      "text/html": [
       "<div>\n",
       "<style scoped>\n",
       "    .dataframe tbody tr th:only-of-type {\n",
       "        vertical-align: middle;\n",
       "    }\n",
       "\n",
       "    .dataframe tbody tr th {\n",
       "        vertical-align: top;\n",
       "    }\n",
       "\n",
       "    .dataframe thead th {\n",
       "        text-align: right;\n",
       "    }\n",
       "</style>\n",
       "<table border=\"1\" class=\"dataframe\">\n",
       "  <thead>\n",
       "    <tr style=\"text-align: right;\">\n",
       "      <th></th>\n",
       "      <th>RI</th>\n",
       "      <th>Na</th>\n",
       "      <th>Mg</th>\n",
       "      <th>Al</th>\n",
       "      <th>Si</th>\n",
       "      <th>K</th>\n",
       "      <th>Ca</th>\n",
       "      <th>Ba</th>\n",
       "      <th>Fe</th>\n",
       "      <th>Class</th>\n",
       "    </tr>\n",
       "  </thead>\n",
       "  <tbody>\n",
       "    <tr>\n",
       "      <th>0</th>\n",
       "      <td>1.517665</td>\n",
       "      <td>13.21045</td>\n",
       "      <td>3.69078</td>\n",
       "      <td>1.29152</td>\n",
       "      <td>72.6100</td>\n",
       "      <td>0.57132</td>\n",
       "      <td>8.21684</td>\n",
       "      <td>0.0</td>\n",
       "      <td>0.0000</td>\n",
       "      <td>1</td>\n",
       "    </tr>\n",
       "    <tr>\n",
       "      <th>1</th>\n",
       "      <td>1.526663</td>\n",
       "      <td>13.98850</td>\n",
       "      <td>3.69976</td>\n",
       "      <td>0.71051</td>\n",
       "      <td>71.5684</td>\n",
       "      <td>0.01863</td>\n",
       "      <td>9.82008</td>\n",
       "      <td>0.0</td>\n",
       "      <td>0.0510</td>\n",
       "      <td>1</td>\n",
       "    </tr>\n",
       "    <tr>\n",
       "      <th>2</th>\n",
       "      <td>1.517506</td>\n",
       "      <td>12.81810</td>\n",
       "      <td>3.55159</td>\n",
       "      <td>1.49054</td>\n",
       "      <td>72.7500</td>\n",
       "      <td>0.54027</td>\n",
       "      <td>8.51812</td>\n",
       "      <td>0.0</td>\n",
       "      <td>0.0969</td>\n",
       "      <td>1</td>\n",
       "    </tr>\n",
       "    <tr>\n",
       "      <th>3</th>\n",
       "      <td>1.521515</td>\n",
       "      <td>13.05085</td>\n",
       "      <td>3.65037</td>\n",
       "      <td>0.87101</td>\n",
       "      <td>72.3188</td>\n",
       "      <td>0.19251</td>\n",
       "      <td>9.85236</td>\n",
       "      <td>0.0</td>\n",
       "      <td>0.0867</td>\n",
       "      <td>1</td>\n",
       "    </tr>\n",
       "    <tr>\n",
       "      <th>4</th>\n",
       "      <td>1.515706</td>\n",
       "      <td>12.71835</td>\n",
       "      <td>3.46179</td>\n",
       "      <td>1.56116</td>\n",
       "      <td>73.1980</td>\n",
       "      <td>0.67068</td>\n",
       "      <td>8.08772</td>\n",
       "      <td>0.0</td>\n",
       "      <td>0.1224</td>\n",
       "      <td>1</td>\n",
       "    </tr>\n",
       "    <tr>\n",
       "      <th>5</th>\n",
       "      <td>1.517551</td>\n",
       "      <td>13.15060</td>\n",
       "      <td>3.60996</td>\n",
       "      <td>1.05077</td>\n",
       "      <td>73.2372</td>\n",
       "      <td>0.57132</td>\n",
       "      <td>8.23836</td>\n",
       "      <td>0.0</td>\n",
       "      <td>0.0000</td>\n",
       "      <td>1</td>\n",
       "    </tr>\n",
       "    <tr>\n",
       "      <th>6</th>\n",
       "      <td>1.517620</td>\n",
       "      <td>12.61195</td>\n",
       "      <td>3.59200</td>\n",
       "      <td>1.31078</td>\n",
       "      <td>73.2876</td>\n",
       "      <td>0.57753</td>\n",
       "      <td>8.49660</td>\n",
       "      <td>0.0</td>\n",
       "      <td>0.0000</td>\n",
       "      <td>1</td>\n",
       "    </tr>\n",
       "    <tr>\n",
       "      <th>7</th>\n",
       "      <td>1.521515</td>\n",
       "      <td>13.11735</td>\n",
       "      <td>3.57853</td>\n",
       "      <td>0.89990</td>\n",
       "      <td>72.2012</td>\n",
       "      <td>0.22977</td>\n",
       "      <td>9.82008</td>\n",
       "      <td>0.0</td>\n",
       "      <td>0.0816</td>\n",
       "      <td>1</td>\n",
       "    </tr>\n",
       "    <tr>\n",
       "      <th>8</th>\n",
       "      <td>1.517642</td>\n",
       "      <td>12.97770</td>\n",
       "      <td>3.53812</td>\n",
       "      <td>1.21127</td>\n",
       "      <td>73.0020</td>\n",
       "      <td>0.65205</td>\n",
       "      <td>8.52888</td>\n",
       "      <td>0.0</td>\n",
       "      <td>0.0000</td>\n",
       "      <td>1</td>\n",
       "    </tr>\n",
       "    <tr>\n",
       "      <th>9</th>\n",
       "      <td>1.519009</td>\n",
       "      <td>13.48975</td>\n",
       "      <td>3.47975</td>\n",
       "      <td>1.34930</td>\n",
       "      <td>71.9492</td>\n",
       "      <td>0.55269</td>\n",
       "      <td>9.00232</td>\n",
       "      <td>0.0</td>\n",
       "      <td>0.0000</td>\n",
       "      <td>1</td>\n",
       "    </tr>\n",
       "  </tbody>\n",
       "</table>\n",
       "</div>"
      ],
      "text/plain": [
       "         RI        Na       Mg       Al       Si        K       Ca   Ba  \\\n",
       "0  1.517665  13.21045  3.69078  1.29152  72.6100  0.57132  8.21684  0.0   \n",
       "1  1.526663  13.98850  3.69976  0.71051  71.5684  0.01863  9.82008  0.0   \n",
       "2  1.517506  12.81810  3.55159  1.49054  72.7500  0.54027  8.51812  0.0   \n",
       "3  1.521515  13.05085  3.65037  0.87101  72.3188  0.19251  9.85236  0.0   \n",
       "4  1.515706  12.71835  3.46179  1.56116  73.1980  0.67068  8.08772  0.0   \n",
       "5  1.517551  13.15060  3.60996  1.05077  73.2372  0.57132  8.23836  0.0   \n",
       "6  1.517620  12.61195  3.59200  1.31078  73.2876  0.57753  8.49660  0.0   \n",
       "7  1.521515  13.11735  3.57853  0.89990  72.2012  0.22977  9.82008  0.0   \n",
       "8  1.517642  12.97770  3.53812  1.21127  73.0020  0.65205  8.52888  0.0   \n",
       "9  1.519009  13.48975  3.47975  1.34930  71.9492  0.55269  9.00232  0.0   \n",
       "\n",
       "       Fe  Class  \n",
       "0  0.0000      1  \n",
       "1  0.0510      1  \n",
       "2  0.0969      1  \n",
       "3  0.0867      1  \n",
       "4  0.1224      1  \n",
       "5  0.0000      1  \n",
       "6  0.0000      1  \n",
       "7  0.0816      1  \n",
       "8  0.0000      1  \n",
       "9  0.0000      1  "
      ]
     },
     "execution_count": 94,
     "metadata": {},
     "output_type": "execute_result"
    }
   ],
   "source": [
    "balanced_train_set.head(10)"
   ]
  },
  {
   "cell_type": "code",
   "execution_count": 96,
   "id": "676a8118",
   "metadata": {},
   "outputs": [],
   "source": [
    "balanced_train_set= balanced_training_set.sample(frac=1).reset_index(drop=True)"
   ]
  },
  {
   "cell_type": "code",
   "execution_count": 97,
   "id": "19fc848f",
   "metadata": {},
   "outputs": [
    {
     "data": {
      "text/html": [
       "<div>\n",
       "<style scoped>\n",
       "    .dataframe tbody tr th:only-of-type {\n",
       "        vertical-align: middle;\n",
       "    }\n",
       "\n",
       "    .dataframe tbody tr th {\n",
       "        vertical-align: top;\n",
       "    }\n",
       "\n",
       "    .dataframe thead th {\n",
       "        text-align: right;\n",
       "    }\n",
       "</style>\n",
       "<table border=\"1\" class=\"dataframe\">\n",
       "  <thead>\n",
       "    <tr style=\"text-align: right;\">\n",
       "      <th></th>\n",
       "      <th>RI</th>\n",
       "      <th>Na</th>\n",
       "      <th>Mg</th>\n",
       "      <th>Al</th>\n",
       "      <th>Si</th>\n",
       "      <th>K</th>\n",
       "      <th>Ca</th>\n",
       "      <th>Ba</th>\n",
       "      <th>Fe</th>\n",
       "      <th>Class</th>\n",
       "    </tr>\n",
       "  </thead>\n",
       "  <tbody>\n",
       "    <tr>\n",
       "      <th>0</th>\n",
       "      <td>1.519100</td>\n",
       "      <td>13.902050</td>\n",
       "      <td>3.731190</td>\n",
       "      <td>1.179170</td>\n",
       "      <td>72.12280</td>\n",
       "      <td>0.062100</td>\n",
       "      <td>8.894720</td>\n",
       "      <td>0.000000</td>\n",
       "      <td>0.00000</td>\n",
       "      <td>1</td>\n",
       "    </tr>\n",
       "    <tr>\n",
       "      <th>1</th>\n",
       "      <td>1.522472</td>\n",
       "      <td>14.859650</td>\n",
       "      <td>2.200100</td>\n",
       "      <td>2.058710</td>\n",
       "      <td>70.25800</td>\n",
       "      <td>0.757620</td>\n",
       "      <td>9.755520</td>\n",
       "      <td>0.000000</td>\n",
       "      <td>0.00000</td>\n",
       "      <td>0</td>\n",
       "    </tr>\n",
       "    <tr>\n",
       "      <th>2</th>\n",
       "      <td>1.517551</td>\n",
       "      <td>13.390000</td>\n",
       "      <td>3.659350</td>\n",
       "      <td>1.188800</td>\n",
       "      <td>72.78920</td>\n",
       "      <td>0.571320</td>\n",
       "      <td>8.270640</td>\n",
       "      <td>0.000000</td>\n",
       "      <td>0.05610</td>\n",
       "      <td>1</td>\n",
       "    </tr>\n",
       "    <tr>\n",
       "      <th>3</th>\n",
       "      <td>1.533930</td>\n",
       "      <td>12.299400</td>\n",
       "      <td>0.000000</td>\n",
       "      <td>0.999410</td>\n",
       "      <td>70.16280</td>\n",
       "      <td>0.117990</td>\n",
       "      <td>16.190000</td>\n",
       "      <td>0.000000</td>\n",
       "      <td>0.12240</td>\n",
       "      <td>0</td>\n",
       "    </tr>\n",
       "    <tr>\n",
       "      <th>4</th>\n",
       "      <td>1.518986</td>\n",
       "      <td>13.582850</td>\n",
       "      <td>3.349540</td>\n",
       "      <td>1.230530</td>\n",
       "      <td>72.07800</td>\n",
       "      <td>0.589950</td>\n",
       "      <td>8.905480</td>\n",
       "      <td>0.000000</td>\n",
       "      <td>0.00000</td>\n",
       "      <td>1</td>\n",
       "    </tr>\n",
       "    <tr>\n",
       "      <th>5</th>\n",
       "      <td>1.516389</td>\n",
       "      <td>14.907950</td>\n",
       "      <td>0.000000</td>\n",
       "      <td>2.375698</td>\n",
       "      <td>73.22880</td>\n",
       "      <td>0.012420</td>\n",
       "      <td>8.811330</td>\n",
       "      <td>0.625275</td>\n",
       "      <td>0.11475</td>\n",
       "      <td>0</td>\n",
       "    </tr>\n",
       "    <tr>\n",
       "      <th>6</th>\n",
       "      <td>1.516230</td>\n",
       "      <td>14.201300</td>\n",
       "      <td>0.000000</td>\n",
       "      <td>2.790590</td>\n",
       "      <td>73.46120</td>\n",
       "      <td>0.037260</td>\n",
       "      <td>9.045360</td>\n",
       "      <td>0.400050</td>\n",
       "      <td>0.45900</td>\n",
       "      <td>0</td>\n",
       "    </tr>\n",
       "    <tr>\n",
       "      <th>7</th>\n",
       "      <td>1.516093</td>\n",
       "      <td>13.033560</td>\n",
       "      <td>3.539916</td>\n",
       "      <td>1.507232</td>\n",
       "      <td>73.17112</td>\n",
       "      <td>0.669438</td>\n",
       "      <td>7.891888</td>\n",
       "      <td>0.000000</td>\n",
       "      <td>0.00000</td>\n",
       "      <td>0</td>\n",
       "    </tr>\n",
       "    <tr>\n",
       "      <th>8</th>\n",
       "      <td>1.518075</td>\n",
       "      <td>13.429900</td>\n",
       "      <td>2.869110</td>\n",
       "      <td>1.188800</td>\n",
       "      <td>72.83960</td>\n",
       "      <td>0.552690</td>\n",
       "      <td>9.034600</td>\n",
       "      <td>0.000000</td>\n",
       "      <td>0.00000</td>\n",
       "      <td>1</td>\n",
       "    </tr>\n",
       "    <tr>\n",
       "      <th>9</th>\n",
       "      <td>1.517847</td>\n",
       "      <td>12.678450</td>\n",
       "      <td>3.668330</td>\n",
       "      <td>1.159910</td>\n",
       "      <td>73.10840</td>\n",
       "      <td>0.608580</td>\n",
       "      <td>8.701040</td>\n",
       "      <td>0.000000</td>\n",
       "      <td>0.00000</td>\n",
       "      <td>1</td>\n",
       "    </tr>\n",
       "    <tr>\n",
       "      <th>10</th>\n",
       "      <td>1.519055</td>\n",
       "      <td>13.602800</td>\n",
       "      <td>3.618940</td>\n",
       "      <td>1.108550</td>\n",
       "      <td>72.63800</td>\n",
       "      <td>0.142830</td>\n",
       "      <td>8.754840</td>\n",
       "      <td>0.000000</td>\n",
       "      <td>0.00000</td>\n",
       "      <td>1</td>\n",
       "    </tr>\n",
       "    <tr>\n",
       "      <th>11</th>\n",
       "      <td>1.513177</td>\n",
       "      <td>13.007625</td>\n",
       "      <td>0.000000</td>\n",
       "      <td>3.029735</td>\n",
       "      <td>70.59120</td>\n",
       "      <td>6.210000</td>\n",
       "      <td>6.941780</td>\n",
       "      <td>0.000000</td>\n",
       "      <td>0.00000</td>\n",
       "      <td>0</td>\n",
       "    </tr>\n",
       "    <tr>\n",
       "      <th>12</th>\n",
       "      <td>1.522130</td>\n",
       "      <td>14.207950</td>\n",
       "      <td>3.820990</td>\n",
       "      <td>0.469760</td>\n",
       "      <td>71.77000</td>\n",
       "      <td>0.111780</td>\n",
       "      <td>9.572600</td>\n",
       "      <td>0.000000</td>\n",
       "      <td>0.00000</td>\n",
       "      <td>1</td>\n",
       "    </tr>\n",
       "    <tr>\n",
       "      <th>13</th>\n",
       "      <td>1.524089</td>\n",
       "      <td>13.828900</td>\n",
       "      <td>2.900540</td>\n",
       "      <td>1.169540</td>\n",
       "      <td>71.14840</td>\n",
       "      <td>0.080730</td>\n",
       "      <td>10.788480</td>\n",
       "      <td>0.000000</td>\n",
       "      <td>0.00000</td>\n",
       "      <td>0</td>\n",
       "    </tr>\n",
       "    <tr>\n",
       "      <th>14</th>\n",
       "      <td>1.518690</td>\n",
       "      <td>13.190500</td>\n",
       "      <td>3.371990</td>\n",
       "      <td>1.179170</td>\n",
       "      <td>72.72200</td>\n",
       "      <td>0.571320</td>\n",
       "      <td>8.830160</td>\n",
       "      <td>0.000000</td>\n",
       "      <td>0.08160</td>\n",
       "      <td>1</td>\n",
       "    </tr>\n",
       "    <tr>\n",
       "      <th>15</th>\n",
       "      <td>1.516184</td>\n",
       "      <td>13.529650</td>\n",
       "      <td>3.551590</td>\n",
       "      <td>1.538690</td>\n",
       "      <td>72.99080</td>\n",
       "      <td>0.391230</td>\n",
       "      <td>7.775680</td>\n",
       "      <td>0.000000</td>\n",
       "      <td>0.00000</td>\n",
       "      <td>1</td>\n",
       "    </tr>\n",
       "    <tr>\n",
       "      <th>16</th>\n",
       "      <td>1.521515</td>\n",
       "      <td>11.029250</td>\n",
       "      <td>1.710690</td>\n",
       "      <td>1.561160</td>\n",
       "      <td>73.43880</td>\n",
       "      <td>0.577530</td>\n",
       "      <td>11.617000</td>\n",
       "      <td>0.000000</td>\n",
       "      <td>0.00000</td>\n",
       "      <td>0</td>\n",
       "    </tr>\n",
       "    <tr>\n",
       "      <th>17</th>\n",
       "      <td>1.517506</td>\n",
       "      <td>12.818100</td>\n",
       "      <td>3.551590</td>\n",
       "      <td>1.490540</td>\n",
       "      <td>72.75000</td>\n",
       "      <td>0.540270</td>\n",
       "      <td>8.518120</td>\n",
       "      <td>0.000000</td>\n",
       "      <td>0.09690</td>\n",
       "      <td>1</td>\n",
       "    </tr>\n",
       "    <tr>\n",
       "      <th>18</th>\n",
       "      <td>1.518371</td>\n",
       "      <td>13.137300</td>\n",
       "      <td>2.842170</td>\n",
       "      <td>1.278680</td>\n",
       "      <td>72.85080</td>\n",
       "      <td>0.552690</td>\n",
       "      <td>9.066880</td>\n",
       "      <td>0.000000</td>\n",
       "      <td>0.00000</td>\n",
       "      <td>1</td>\n",
       "    </tr>\n",
       "    <tr>\n",
       "      <th>19</th>\n",
       "      <td>1.517460</td>\n",
       "      <td>12.838050</td>\n",
       "      <td>3.502200</td>\n",
       "      <td>1.140650</td>\n",
       "      <td>73.27080</td>\n",
       "      <td>0.558900</td>\n",
       "      <td>8.550400</td>\n",
       "      <td>0.000000</td>\n",
       "      <td>0.00000</td>\n",
       "      <td>1</td>\n",
       "    </tr>\n",
       "  </tbody>\n",
       "</table>\n",
       "</div>"
      ],
      "text/plain": [
       "          RI         Na        Mg        Al        Si         K         Ca  \\\n",
       "0   1.519100  13.902050  3.731190  1.179170  72.12280  0.062100   8.894720   \n",
       "1   1.522472  14.859650  2.200100  2.058710  70.25800  0.757620   9.755520   \n",
       "2   1.517551  13.390000  3.659350  1.188800  72.78920  0.571320   8.270640   \n",
       "3   1.533930  12.299400  0.000000  0.999410  70.16280  0.117990  16.190000   \n",
       "4   1.518986  13.582850  3.349540  1.230530  72.07800  0.589950   8.905480   \n",
       "5   1.516389  14.907950  0.000000  2.375698  73.22880  0.012420   8.811330   \n",
       "6   1.516230  14.201300  0.000000  2.790590  73.46120  0.037260   9.045360   \n",
       "7   1.516093  13.033560  3.539916  1.507232  73.17112  0.669438   7.891888   \n",
       "8   1.518075  13.429900  2.869110  1.188800  72.83960  0.552690   9.034600   \n",
       "9   1.517847  12.678450  3.668330  1.159910  73.10840  0.608580   8.701040   \n",
       "10  1.519055  13.602800  3.618940  1.108550  72.63800  0.142830   8.754840   \n",
       "11  1.513177  13.007625  0.000000  3.029735  70.59120  6.210000   6.941780   \n",
       "12  1.522130  14.207950  3.820990  0.469760  71.77000  0.111780   9.572600   \n",
       "13  1.524089  13.828900  2.900540  1.169540  71.14840  0.080730  10.788480   \n",
       "14  1.518690  13.190500  3.371990  1.179170  72.72200  0.571320   8.830160   \n",
       "15  1.516184  13.529650  3.551590  1.538690  72.99080  0.391230   7.775680   \n",
       "16  1.521515  11.029250  1.710690  1.561160  73.43880  0.577530  11.617000   \n",
       "17  1.517506  12.818100  3.551590  1.490540  72.75000  0.540270   8.518120   \n",
       "18  1.518371  13.137300  2.842170  1.278680  72.85080  0.552690   9.066880   \n",
       "19  1.517460  12.838050  3.502200  1.140650  73.27080  0.558900   8.550400   \n",
       "\n",
       "          Ba       Fe  Class  \n",
       "0   0.000000  0.00000      1  \n",
       "1   0.000000  0.00000      0  \n",
       "2   0.000000  0.05610      1  \n",
       "3   0.000000  0.12240      0  \n",
       "4   0.000000  0.00000      1  \n",
       "5   0.625275  0.11475      0  \n",
       "6   0.400050  0.45900      0  \n",
       "7   0.000000  0.00000      0  \n",
       "8   0.000000  0.00000      1  \n",
       "9   0.000000  0.00000      1  \n",
       "10  0.000000  0.00000      1  \n",
       "11  0.000000  0.00000      0  \n",
       "12  0.000000  0.00000      1  \n",
       "13  0.000000  0.00000      0  \n",
       "14  0.000000  0.08160      1  \n",
       "15  0.000000  0.00000      1  \n",
       "16  0.000000  0.00000      0  \n",
       "17  0.000000  0.09690      1  \n",
       "18  0.000000  0.00000      1  \n",
       "19  0.000000  0.00000      1  "
      ]
     },
     "execution_count": 97,
     "metadata": {},
     "output_type": "execute_result"
    }
   ],
   "source": [
    "balanced_train_set.head(20)"
   ]
  },
  {
   "cell_type": "code",
   "execution_count": 98,
   "id": "347daf57",
   "metadata": {},
   "outputs": [
    {
     "data": {
      "text/plain": [
       "(120, 10)"
      ]
     },
     "execution_count": 98,
     "metadata": {},
     "output_type": "execute_result"
    }
   ],
   "source": [
    "balanced_train_set.shape"
   ]
  },
  {
   "cell_type": "code",
   "execution_count": 99,
   "id": "fa20e31e",
   "metadata": {},
   "outputs": [
    {
     "data": {
      "text/plain": [
       "(43, 10)"
      ]
     },
     "execution_count": 99,
     "metadata": {},
     "output_type": "execute_result"
    }
   ],
   "source": [
    "test_set.shape"
   ]
  },
  {
   "cell_type": "code",
   "execution_count": 100,
   "id": "9153dbcd",
   "metadata": {},
   "outputs": [],
   "source": [
    "x_test=test_set[['RI', 'Na', 'Mg', 'Al', 'Si', 'K','Ca', 'Ba', 'Fe']]\n",
    "y_test=test_set['Class']"
   ]
  },
  {
   "cell_type": "code",
   "execution_count": 110,
   "id": "34267755",
   "metadata": {},
   "outputs": [],
   "source": [
    "x_train=train_set[['RI', 'Na', 'Mg', 'Al', 'Si', 'K','Ca', 'Ba', 'Fe']]\n",
    "y_train=train_set['Class']"
   ]
  },
  {
   "cell_type": "code",
   "execution_count": 111,
   "id": "58f38c64",
   "metadata": {},
   "outputs": [],
   "source": [
    "balanced_x_train=balanced_train_set[['RI', 'Na', 'Mg', 'Al', 'Si', 'K','Ca', 'Ba', 'Fe']]\n",
    "balanced_y_train=balanced_train_set['Class']"
   ]
  },
  {
   "cell_type": "code",
   "execution_count": 112,
   "id": "4bfa83e7",
   "metadata": {},
   "outputs": [
    {
     "data": {
      "text/plain": [
       "0.5813953488372093"
      ]
     },
     "execution_count": 112,
     "metadata": {},
     "output_type": "execute_result"
    }
   ],
   "source": [
    "svm=SVC()\n",
    "svm.fit(balanced_x_train, balanced_y_train)\n",
    "svm.score(x_test, y_test)"
   ]
  },
  {
   "cell_type": "code",
   "execution_count": 114,
   "id": "7b9cd440",
   "metadata": {},
   "outputs": [
    {
     "data": {
      "text/plain": [
       "0.813953488372093"
      ]
     },
     "execution_count": 114,
     "metadata": {},
     "output_type": "execute_result"
    }
   ],
   "source": [
    "svm=SVC()\n",
    "svm.fit(x_train, y_train)\n",
    "svm.score(x_test, y_test)"
   ]
  },
  {
   "cell_type": "code",
   "execution_count": 115,
   "id": "f0300644",
   "metadata": {},
   "outputs": [
    {
     "data": {
      "text/plain": [
       "(171, 9)"
      ]
     },
     "execution_count": 115,
     "metadata": {},
     "output_type": "execute_result"
    }
   ],
   "source": [
    "x_train.shape"
   ]
  },
  {
   "cell_type": "code",
   "execution_count": 116,
   "id": "c53c648c",
   "metadata": {},
   "outputs": [
    {
     "data": {
      "text/plain": [
       "(120, 9)"
      ]
     },
     "execution_count": 116,
     "metadata": {},
     "output_type": "execute_result"
    }
   ],
   "source": [
    "balanced_x_train.shape"
   ]
  },
  {
   "cell_type": "code",
   "execution_count": 117,
   "id": "b5533b59",
   "metadata": {},
   "outputs": [],
   "source": [
    "#0train, 1train, 0balanced, 1balanced"
   ]
  },
  {
   "cell_type": "code",
   "execution_count": 122,
   "id": "e45b81cb",
   "metadata": {},
   "outputs": [
    {
     "data": {
      "text/html": [
       "<div>\n",
       "<style scoped>\n",
       "    .dataframe tbody tr th:only-of-type {\n",
       "        vertical-align: middle;\n",
       "    }\n",
       "\n",
       "    .dataframe tbody tr th {\n",
       "        vertical-align: top;\n",
       "    }\n",
       "\n",
       "    .dataframe thead th {\n",
       "        text-align: right;\n",
       "    }\n",
       "</style>\n",
       "<table border=\"1\" class=\"dataframe\">\n",
       "  <thead>\n",
       "    <tr style=\"text-align: right;\">\n",
       "      <th></th>\n",
       "      <th>RI</th>\n",
       "      <th>Na</th>\n",
       "      <th>Mg</th>\n",
       "      <th>Al</th>\n",
       "      <th>Si</th>\n",
       "      <th>K</th>\n",
       "      <th>Ca</th>\n",
       "      <th>Ba</th>\n",
       "      <th>Fe</th>\n",
       "      <th>Class</th>\n",
       "    </tr>\n",
       "  </thead>\n",
       "  <tbody>\n",
       "    <tr>\n",
       "      <th>63</th>\n",
       "      <td>1.517665</td>\n",
       "      <td>13.21045</td>\n",
       "      <td>3.69078</td>\n",
       "      <td>1.29152</td>\n",
       "      <td>72.6100</td>\n",
       "      <td>0.57132</td>\n",
       "      <td>8.21684</td>\n",
       "      <td>0.0</td>\n",
       "      <td>0.0000</td>\n",
       "      <td>1</td>\n",
       "    </tr>\n",
       "    <tr>\n",
       "      <th>47</th>\n",
       "      <td>1.526663</td>\n",
       "      <td>13.98850</td>\n",
       "      <td>3.69976</td>\n",
       "      <td>0.71051</td>\n",
       "      <td>71.5684</td>\n",
       "      <td>0.01863</td>\n",
       "      <td>9.82008</td>\n",
       "      <td>0.0</td>\n",
       "      <td>0.0510</td>\n",
       "      <td>1</td>\n",
       "    </tr>\n",
       "    <tr>\n",
       "      <th>45</th>\n",
       "      <td>1.517506</td>\n",
       "      <td>12.81810</td>\n",
       "      <td>3.55159</td>\n",
       "      <td>1.49054</td>\n",
       "      <td>72.7500</td>\n",
       "      <td>0.54027</td>\n",
       "      <td>8.51812</td>\n",
       "      <td>0.0</td>\n",
       "      <td>0.0969</td>\n",
       "      <td>1</td>\n",
       "    </tr>\n",
       "    <tr>\n",
       "      <th>30</th>\n",
       "      <td>1.521515</td>\n",
       "      <td>13.05085</td>\n",
       "      <td>3.65037</td>\n",
       "      <td>0.87101</td>\n",
       "      <td>72.3188</td>\n",
       "      <td>0.19251</td>\n",
       "      <td>9.85236</td>\n",
       "      <td>0.0</td>\n",
       "      <td>0.0867</td>\n",
       "      <td>1</td>\n",
       "    </tr>\n",
       "    <tr>\n",
       "      <th>102</th>\n",
       "      <td>1.518462</td>\n",
       "      <td>13.09740</td>\n",
       "      <td>3.96916</td>\n",
       "      <td>1.18880</td>\n",
       "      <td>72.4420</td>\n",
       "      <td>0.60237</td>\n",
       "      <td>8.43204</td>\n",
       "      <td>0.0</td>\n",
       "      <td>0.0000</td>\n",
       "      <td>0</td>\n",
       "    </tr>\n",
       "  </tbody>\n",
       "</table>\n",
       "</div>"
      ],
      "text/plain": [
       "           RI        Na       Mg       Al       Si        K       Ca   Ba  \\\n",
       "63   1.517665  13.21045  3.69078  1.29152  72.6100  0.57132  8.21684  0.0   \n",
       "47   1.526663  13.98850  3.69976  0.71051  71.5684  0.01863  9.82008  0.0   \n",
       "45   1.517506  12.81810  3.55159  1.49054  72.7500  0.54027  8.51812  0.0   \n",
       "30   1.521515  13.05085  3.65037  0.87101  72.3188  0.19251  9.85236  0.0   \n",
       "102  1.518462  13.09740  3.96916  1.18880  72.4420  0.60237  8.43204  0.0   \n",
       "\n",
       "         Fe  Class  \n",
       "63   0.0000      1  \n",
       "47   0.0510      1  \n",
       "45   0.0969      1  \n",
       "30   0.0867      1  \n",
       "102  0.0000      0  "
      ]
     },
     "execution_count": 122,
     "metadata": {},
     "output_type": "execute_result"
    }
   ],
   "source": [
    "train_set.head()"
   ]
  },
  {
   "cell_type": "code",
   "execution_count": 126,
   "id": "12bfd33c",
   "metadata": {},
   "outputs": [],
   "source": [
    "train1=0\n",
    "train0=0\n",
    "for i, row in train_set.iterrows():\n",
    "    data=train_set.at[i, 'Class']\n",
    "    if(data==1):\n",
    "        train1=train1+1\n",
    "    else:\n",
    "        train0=train0+1"
   ]
  },
  {
   "cell_type": "code",
   "execution_count": 127,
   "id": "95a81a97",
   "metadata": {},
   "outputs": [],
   "source": [
    "bal1=0\n",
    "bal0=0\n",
    "for i, row in balanced_train_set.iterrows():\n",
    "    data=balanced_train_set.at[i, 'Class']\n",
    "    if(data==1):\n",
    "        bal1=bal1+1\n",
    "    else:\n",
    "        bal0=bal0+1"
   ]
  },
  {
   "cell_type": "code",
   "execution_count": 128,
   "id": "0eb9c431",
   "metadata": {},
   "outputs": [
    {
     "name": "stdout",
     "output_type": "stream",
     "text": [
      "111 60\n",
      "60 60\n"
     ]
    }
   ],
   "source": [
    "print(train0, train1)\n",
    "print(bal0, bal1)"
   ]
  },
  {
   "cell_type": "code",
   "execution_count": 129,
   "id": "1e4baba7",
   "metadata": {},
   "outputs": [
    {
     "data": {
      "text/plain": [
       "0.5813953488372093"
      ]
     },
     "execution_count": 129,
     "metadata": {},
     "output_type": "execute_result"
    }
   ],
   "source": [
    "svm=SVC()\n",
    "svm.fit(balanced_x_train, balanced_y_train)\n",
    "svm.score(x_test, y_test)"
   ]
  },
  {
   "cell_type": "code",
   "execution_count": 130,
   "id": "d0fffbd2",
   "metadata": {},
   "outputs": [
    {
     "data": {
      "text/plain": [
       "0.813953488372093"
      ]
     },
     "execution_count": 130,
     "metadata": {},
     "output_type": "execute_result"
    }
   ],
   "source": [
    "svm=SVC()\n",
    "svm.fit(x_train, y_train)\n",
    "svm.score(x_test, y_test)"
   ]
  },
  {
   "cell_type": "code",
   "execution_count": null,
   "id": "5e64246a",
   "metadata": {},
   "outputs": [],
   "source": []
  }
 ],
 "metadata": {
  "kernelspec": {
   "display_name": "Python 3",
   "language": "python",
   "name": "python3"
  },
  "language_info": {
   "codemirror_mode": {
    "name": "ipython",
    "version": 3
   },
   "file_extension": ".py",
   "mimetype": "text/x-python",
   "name": "python",
   "nbconvert_exporter": "python",
   "pygments_lexer": "ipython3",
   "version": "3.7.10"
  }
 },
 "nbformat": 4,
 "nbformat_minor": 5
}
